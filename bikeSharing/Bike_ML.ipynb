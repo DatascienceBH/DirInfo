{
 "cells": [
  {
   "cell_type": "code",
   "execution_count": 351,
   "metadata": {},
   "outputs": [],
   "source": [
    "%matplotlib inline\n",
    "import numpy as np\n",
    "import pandas as pd\n",
    "import matplotlib.pyplot as plt\n",
    "from sklearn.model_selection import train_test_split\n",
    "import xgboost as xgb"
   ]
  },
  {
   "cell_type": "code",
   "execution_count": 352,
   "metadata": {},
   "outputs": [],
   "source": [
    "columns=[\"count\", \"season\", \"holiday\", \"workingday\", \"weather\", \"temp\", \"atemp\", \"humidity\", \"windspeed\", \"year\", \"monht\", \n",
    "        \"day\", \"dayfweek\", \"hour\"]\n"
   ]
  },
  {
   "cell_type": "code",
   "execution_count": 353,
   "metadata": {},
   "outputs": [],
   "source": [
    "\n",
    "df=pd.read_csv(\"train.csv\", parse_dates=['datetime'], index_col=0)\n",
    "df_test=pd.read_csv(\"test.csv\", parse_dates=['datetime'], index_col=0)"
   ]
  },
  {
   "cell_type": "code",
   "execution_count": 354,
   "metadata": {},
   "outputs": [
    {
     "data": {
      "text/html": [
       "<div>\n",
       "<style scoped>\n",
       "    .dataframe tbody tr th:only-of-type {\n",
       "        vertical-align: middle;\n",
       "    }\n",
       "\n",
       "    .dataframe tbody tr th {\n",
       "        vertical-align: top;\n",
       "    }\n",
       "\n",
       "    .dataframe thead th {\n",
       "        text-align: right;\n",
       "    }\n",
       "</style>\n",
       "<table border=\"1\" class=\"dataframe\">\n",
       "  <thead>\n",
       "    <tr style=\"text-align: right;\">\n",
       "      <th></th>\n",
       "      <th>season</th>\n",
       "      <th>holiday</th>\n",
       "      <th>workingday</th>\n",
       "      <th>weather</th>\n",
       "      <th>temp</th>\n",
       "      <th>atemp</th>\n",
       "      <th>humidity</th>\n",
       "      <th>windspeed</th>\n",
       "      <th>casual</th>\n",
       "      <th>registered</th>\n",
       "      <th>count</th>\n",
       "    </tr>\n",
       "    <tr>\n",
       "      <th>datetime</th>\n",
       "      <th></th>\n",
       "      <th></th>\n",
       "      <th></th>\n",
       "      <th></th>\n",
       "      <th></th>\n",
       "      <th></th>\n",
       "      <th></th>\n",
       "      <th></th>\n",
       "      <th></th>\n",
       "      <th></th>\n",
       "      <th></th>\n",
       "    </tr>\n",
       "  </thead>\n",
       "  <tbody>\n",
       "    <tr>\n",
       "      <th>2011-01-01 00:00:00</th>\n",
       "      <td>1</td>\n",
       "      <td>0</td>\n",
       "      <td>0</td>\n",
       "      <td>1</td>\n",
       "      <td>9.84</td>\n",
       "      <td>14.395</td>\n",
       "      <td>81</td>\n",
       "      <td>0.0</td>\n",
       "      <td>3</td>\n",
       "      <td>13</td>\n",
       "      <td>16</td>\n",
       "    </tr>\n",
       "    <tr>\n",
       "      <th>2011-01-01 01:00:00</th>\n",
       "      <td>1</td>\n",
       "      <td>0</td>\n",
       "      <td>0</td>\n",
       "      <td>1</td>\n",
       "      <td>9.02</td>\n",
       "      <td>13.635</td>\n",
       "      <td>80</td>\n",
       "      <td>0.0</td>\n",
       "      <td>8</td>\n",
       "      <td>32</td>\n",
       "      <td>40</td>\n",
       "    </tr>\n",
       "    <tr>\n",
       "      <th>2011-01-01 02:00:00</th>\n",
       "      <td>1</td>\n",
       "      <td>0</td>\n",
       "      <td>0</td>\n",
       "      <td>1</td>\n",
       "      <td>9.02</td>\n",
       "      <td>13.635</td>\n",
       "      <td>80</td>\n",
       "      <td>0.0</td>\n",
       "      <td>5</td>\n",
       "      <td>27</td>\n",
       "      <td>32</td>\n",
       "    </tr>\n",
       "    <tr>\n",
       "      <th>2011-01-01 03:00:00</th>\n",
       "      <td>1</td>\n",
       "      <td>0</td>\n",
       "      <td>0</td>\n",
       "      <td>1</td>\n",
       "      <td>9.84</td>\n",
       "      <td>14.395</td>\n",
       "      <td>75</td>\n",
       "      <td>0.0</td>\n",
       "      <td>3</td>\n",
       "      <td>10</td>\n",
       "      <td>13</td>\n",
       "    </tr>\n",
       "    <tr>\n",
       "      <th>2011-01-01 04:00:00</th>\n",
       "      <td>1</td>\n",
       "      <td>0</td>\n",
       "      <td>0</td>\n",
       "      <td>1</td>\n",
       "      <td>9.84</td>\n",
       "      <td>14.395</td>\n",
       "      <td>75</td>\n",
       "      <td>0.0</td>\n",
       "      <td>0</td>\n",
       "      <td>1</td>\n",
       "      <td>1</td>\n",
       "    </tr>\n",
       "  </tbody>\n",
       "</table>\n",
       "</div>"
      ],
      "text/plain": [
       "                     season  holiday  workingday  weather  temp   atemp  \\\n",
       "datetime                                                                  \n",
       "2011-01-01 00:00:00       1        0           0        1  9.84  14.395   \n",
       "2011-01-01 01:00:00       1        0           0        1  9.02  13.635   \n",
       "2011-01-01 02:00:00       1        0           0        1  9.02  13.635   \n",
       "2011-01-01 03:00:00       1        0           0        1  9.84  14.395   \n",
       "2011-01-01 04:00:00       1        0           0        1  9.84  14.395   \n",
       "\n",
       "                     humidity  windspeed  casual  registered  count  \n",
       "datetime                                                             \n",
       "2011-01-01 00:00:00        81        0.0       3          13     16  \n",
       "2011-01-01 01:00:00        80        0.0       8          32     40  \n",
       "2011-01-01 02:00:00        80        0.0       5          27     32  \n",
       "2011-01-01 03:00:00        75        0.0       3          10     13  \n",
       "2011-01-01 04:00:00        75        0.0       0           1      1  "
      ]
     },
     "execution_count": 354,
     "metadata": {},
     "output_type": "execute_result"
    }
   ],
   "source": [
    "df.head()"
   ]
  },
  {
   "cell_type": "code",
   "execution_count": 355,
   "metadata": {},
   "outputs": [],
   "source": [
    "def add_features(df):\n",
    "    df[\"year\"]=df.index.year\n",
    "    df[\"month\"]=df.index.month\n",
    "    df[\"day\"]=df.index.day\n",
    "    df[\"dayofweek\"]=df.index.dayofweek\n",
    "    df[\"hour\"]=df.index.hour\n",
    "    "
   ]
  },
  {
   "cell_type": "code",
   "execution_count": 356,
   "metadata": {},
   "outputs": [
    {
     "data": {
      "text/plain": [
       "Int64Index([2011, 2011, 2011, 2011, 2011, 2011, 2011, 2011, 2011, 2011,\n",
       "            ...\n",
       "            2012, 2012, 2012, 2012, 2012, 2012, 2012, 2012, 2012, 2012],\n",
       "           dtype='int64', name='datetime', length=10886)"
      ]
     },
     "execution_count": 356,
     "metadata": {},
     "output_type": "execute_result"
    }
   ],
   "source": [
    "df.index.year"
   ]
  },
  {
   "cell_type": "code",
   "execution_count": null,
   "metadata": {},
   "outputs": [],
   "source": []
  },
  {
   "cell_type": "code",
   "execution_count": 357,
   "metadata": {},
   "outputs": [],
   "source": [
    "add_features(df)\n",
    "add_features(df_test)"
   ]
  },
  {
   "cell_type": "code",
   "execution_count": 358,
   "metadata": {},
   "outputs": [
    {
     "data": {
      "text/html": [
       "<div>\n",
       "<style scoped>\n",
       "    .dataframe tbody tr th:only-of-type {\n",
       "        vertical-align: middle;\n",
       "    }\n",
       "\n",
       "    .dataframe tbody tr th {\n",
       "        vertical-align: top;\n",
       "    }\n",
       "\n",
       "    .dataframe thead th {\n",
       "        text-align: right;\n",
       "    }\n",
       "</style>\n",
       "<table border=\"1\" class=\"dataframe\">\n",
       "  <thead>\n",
       "    <tr style=\"text-align: right;\">\n",
       "      <th></th>\n",
       "      <th>season</th>\n",
       "      <th>holiday</th>\n",
       "      <th>workingday</th>\n",
       "      <th>weather</th>\n",
       "      <th>temp</th>\n",
       "      <th>atemp</th>\n",
       "      <th>humidity</th>\n",
       "      <th>windspeed</th>\n",
       "      <th>year</th>\n",
       "      <th>month</th>\n",
       "      <th>day</th>\n",
       "      <th>dayofweek</th>\n",
       "      <th>hour</th>\n",
       "    </tr>\n",
       "    <tr>\n",
       "      <th>datetime</th>\n",
       "      <th></th>\n",
       "      <th></th>\n",
       "      <th></th>\n",
       "      <th></th>\n",
       "      <th></th>\n",
       "      <th></th>\n",
       "      <th></th>\n",
       "      <th></th>\n",
       "      <th></th>\n",
       "      <th></th>\n",
       "      <th></th>\n",
       "      <th></th>\n",
       "      <th></th>\n",
       "    </tr>\n",
       "  </thead>\n",
       "  <tbody>\n",
       "    <tr>\n",
       "      <th>2011-01-20 00:00:00</th>\n",
       "      <td>1</td>\n",
       "      <td>0</td>\n",
       "      <td>1</td>\n",
       "      <td>1</td>\n",
       "      <td>10.66</td>\n",
       "      <td>11.365</td>\n",
       "      <td>56</td>\n",
       "      <td>26.0027</td>\n",
       "      <td>2011</td>\n",
       "      <td>1</td>\n",
       "      <td>20</td>\n",
       "      <td>3</td>\n",
       "      <td>0</td>\n",
       "    </tr>\n",
       "    <tr>\n",
       "      <th>2011-01-20 01:00:00</th>\n",
       "      <td>1</td>\n",
       "      <td>0</td>\n",
       "      <td>1</td>\n",
       "      <td>1</td>\n",
       "      <td>10.66</td>\n",
       "      <td>13.635</td>\n",
       "      <td>56</td>\n",
       "      <td>0.0000</td>\n",
       "      <td>2011</td>\n",
       "      <td>1</td>\n",
       "      <td>20</td>\n",
       "      <td>3</td>\n",
       "      <td>1</td>\n",
       "    </tr>\n",
       "    <tr>\n",
       "      <th>2011-01-20 02:00:00</th>\n",
       "      <td>1</td>\n",
       "      <td>0</td>\n",
       "      <td>1</td>\n",
       "      <td>1</td>\n",
       "      <td>10.66</td>\n",
       "      <td>13.635</td>\n",
       "      <td>56</td>\n",
       "      <td>0.0000</td>\n",
       "      <td>2011</td>\n",
       "      <td>1</td>\n",
       "      <td>20</td>\n",
       "      <td>3</td>\n",
       "      <td>2</td>\n",
       "    </tr>\n",
       "    <tr>\n",
       "      <th>2011-01-20 03:00:00</th>\n",
       "      <td>1</td>\n",
       "      <td>0</td>\n",
       "      <td>1</td>\n",
       "      <td>1</td>\n",
       "      <td>10.66</td>\n",
       "      <td>12.880</td>\n",
       "      <td>56</td>\n",
       "      <td>11.0014</td>\n",
       "      <td>2011</td>\n",
       "      <td>1</td>\n",
       "      <td>20</td>\n",
       "      <td>3</td>\n",
       "      <td>3</td>\n",
       "    </tr>\n",
       "    <tr>\n",
       "      <th>2011-01-20 04:00:00</th>\n",
       "      <td>1</td>\n",
       "      <td>0</td>\n",
       "      <td>1</td>\n",
       "      <td>1</td>\n",
       "      <td>10.66</td>\n",
       "      <td>12.880</td>\n",
       "      <td>56</td>\n",
       "      <td>11.0014</td>\n",
       "      <td>2011</td>\n",
       "      <td>1</td>\n",
       "      <td>20</td>\n",
       "      <td>3</td>\n",
       "      <td>4</td>\n",
       "    </tr>\n",
       "  </tbody>\n",
       "</table>\n",
       "</div>"
      ],
      "text/plain": [
       "                     season  holiday  workingday  weather   temp   atemp  \\\n",
       "datetime                                                                   \n",
       "2011-01-20 00:00:00       1        0           1        1  10.66  11.365   \n",
       "2011-01-20 01:00:00       1        0           1        1  10.66  13.635   \n",
       "2011-01-20 02:00:00       1        0           1        1  10.66  13.635   \n",
       "2011-01-20 03:00:00       1        0           1        1  10.66  12.880   \n",
       "2011-01-20 04:00:00       1        0           1        1  10.66  12.880   \n",
       "\n",
       "                     humidity  windspeed  year  month  day  dayofweek  hour  \n",
       "datetime                                                                     \n",
       "2011-01-20 00:00:00        56    26.0027  2011      1   20          3     0  \n",
       "2011-01-20 01:00:00        56     0.0000  2011      1   20          3     1  \n",
       "2011-01-20 02:00:00        56     0.0000  2011      1   20          3     2  \n",
       "2011-01-20 03:00:00        56    11.0014  2011      1   20          3     3  \n",
       "2011-01-20 04:00:00        56    11.0014  2011      1   20          3     4  "
      ]
     },
     "execution_count": 358,
     "metadata": {},
     "output_type": "execute_result"
    }
   ],
   "source": [
    "df_test.head()"
   ]
  },
  {
   "cell_type": "code",
   "execution_count": 338,
   "metadata": {},
   "outputs": [],
   "source": [
    "df.to_csv('bike_train.csv', index=False)\n",
    "df_test.to_csv('bike_test.csv', index=False)"
   ]
  },
  {
   "cell_type": "code",
   "execution_count": 235,
   "metadata": {},
   "outputs": [
    {
     "data": {
      "image/png": "[encoded data removed]",
      "text/plain": [
       "<Figure size 432x288 with 1 Axes>"
      ]
     },
     "metadata": {},
     "output_type": "display_data"
    }
   ],
   "source": [
    "# Predict the missing data\n",
    "import seaborn as sns; sns.set()\n",
    "\n",
    "plt.title(df[\"2011-01\":\"2011-02\"]['count'].plot())\n",
    "plt.title(\"Rental Count - Gaps\")\n",
    "plt.show()"
   ]
  },
  {
   "cell_type": "code",
   "execution_count": 236,
   "metadata": {},
   "outputs": [
    {
     "data": {
      "text/plain": [
       "datetime\n",
       "2011-01-01 00:00:00    16\n",
       "2011-01-01 01:00:00    40\n",
       "2011-01-01 02:00:00    32\n",
       "2011-01-01 03:00:00    13\n",
       "2011-01-01 04:00:00     1\n",
       "                       ..\n",
       "2011-02-19 19:00:00    59\n",
       "2011-02-19 20:00:00    47\n",
       "2011-02-19 21:00:00    33\n",
       "2011-02-19 22:00:00    44\n",
       "2011-02-19 23:00:00    29\n",
       "Name: count, Length: 877, dtype: int64"
      ]
     },
     "execution_count": 236,
     "metadata": {},
     "output_type": "execute_result"
    }
   ],
   "source": [
    "df[\"2011-01\":\"2011-02\"]['count']"
   ]
  },
  {
   "cell_type": "code",
   "execution_count": 237,
   "metadata": {},
   "outputs": [
    {
     "data": {
      "image/png": "[encoded data removed]",
      "text/plain": [
       "<Figure size 432x288 with 1 Axes>"
      ]
     },
     "metadata": {},
     "output_type": "display_data"
    }
   ],
   "source": [
    "# Rental Change Hourly\n",
    "plt.plot(df[\"2011-01-01\"]['count'])\n",
    "plt.xticks(fontsize=14, rotation=45)\n",
    "plt.xlabel('Date')\n",
    "plt.ylabel('Rental Count')\n",
    "plt.title('Hourly Rentals for Jan 01, 2011')\n",
    "plt.show()"
   ]
  },
  {
   "cell_type": "code",
   "execution_count": 238,
   "metadata": {},
   "outputs": [
    {
     "data": {
      "text/plain": [
       "24"
      ]
     },
     "execution_count": 238,
     "metadata": {},
     "output_type": "execute_result"
    }
   ],
   "source": [
    "df[\"2011-01-01\"]['count'].count()"
   ]
  },
  {
   "cell_type": "code",
   "execution_count": 239,
   "metadata": {},
   "outputs": [
    {
     "data": {
      "text/plain": [
       "datetime\n",
       "2011-01-01 00:00:00     16\n",
       "2011-01-01 01:00:00     40\n",
       "2011-01-01 02:00:00     32\n",
       "2011-01-01 03:00:00     13\n",
       "2011-01-01 04:00:00      1\n",
       "2011-01-01 05:00:00      1\n",
       "2011-01-01 06:00:00      2\n",
       "2011-01-01 07:00:00      3\n",
       "2011-01-01 08:00:00      8\n",
       "2011-01-01 09:00:00     14\n",
       "2011-01-01 10:00:00     36\n",
       "2011-01-01 11:00:00     56\n",
       "2011-01-01 12:00:00     84\n",
       "2011-01-01 13:00:00     94\n",
       "2011-01-01 14:00:00    106\n",
       "2011-01-01 15:00:00    110\n",
       "2011-01-01 16:00:00     93\n",
       "2011-01-01 17:00:00     67\n",
       "2011-01-01 18:00:00     35\n",
       "2011-01-01 19:00:00     37\n",
       "2011-01-01 20:00:00     36\n",
       "2011-01-01 21:00:00     34\n",
       "2011-01-01 22:00:00     28\n",
       "2011-01-01 23:00:00     39\n",
       "Name: count, dtype: int64"
      ]
     },
     "execution_count": 239,
     "metadata": {},
     "output_type": "execute_result"
    }
   ],
   "source": [
    "df[\"2011-01-01\"]['count']"
   ]
  },
  {
   "cell_type": "code",
   "execution_count": 240,
   "metadata": {},
   "outputs": [
    {
     "data": {
      "image/png": "[encoded data removed]",
      "text/plain": [
       "<Figure size 432x288 with 1 Axes>"
      ]
     },
     "metadata": {},
     "output_type": "display_data"
    }
   ],
   "source": [
    "# seasonal \n",
    "plt.plot(df[\"2011-01\"]['count'])\n",
    "plt.xticks(fontsize=14, rotation=45)\n",
    "plt.xlabel(\"Date\")\n",
    "plt.ylabel(\"Rental Count\")\n",
    "plt.title(\" Jan 2011 Rentals (1 month)\")\n",
    "plt.show()"
   ]
  },
  {
   "cell_type": "code",
   "execution_count": 241,
   "metadata": {},
   "outputs": [],
   "source": [
    "group_hour=df.groupby(['hour'])\n",
    "average_by_hour=group_hour['count'].mean()"
   ]
  },
  {
   "cell_type": "code",
   "execution_count": 242,
   "metadata": {},
   "outputs": [
    {
     "data": {
      "image/png": "[encoded data removed]",
      "text/plain": [
       "<Figure size 432x288 with 1 Axes>"
      ]
     },
     "metadata": {},
     "output_type": "display_data"
    }
   ],
   "source": [
    "plt.plot(average_by_hour.index, average_by_hour)\n",
    "plt.xticks(np.arange(24))\n",
    "plt.xlabel(\"Hour\")\n",
    "plt.ylabel(\"Rental Count\")\n",
    "plt.grid(True)\n",
    "plt.title(\" Average Hourly  Rental  Count\")\n",
    "plt.show()"
   ]
  },
  {
   "cell_type": "code",
   "execution_count": 243,
   "metadata": {},
   "outputs": [
    {
     "data": {
      "image/png": "[encoded data removed]",
      "text/plain": [
       "<Figure size 432x288 with 1 Axes>"
      ]
     },
     "metadata": {},
     "output_type": "display_data"
    }
   ],
   "source": [
    "# year to year trend\n",
    "plt.plot(df['2011']['count'], label='2011')\n",
    "plt.plot(df['2012']['count'], label='2012')\n",
    "plt.xticks(fontsize=14, rotation=45)\n",
    "plt.xlabel(\"Date\")\n",
    "plt.ylabel(\"Rental Count\")\n",
    "plt.legend()\n",
    "plt.title(\" 2011 and 2012  Rental  Year to Year\")\n",
    "plt.show()"
   ]
  },
  {
   "cell_type": "code",
   "execution_count": 244,
   "metadata": {},
   "outputs": [],
   "source": [
    "group_year_month = df.groupby(['year','month'])\n",
    "average_year_month = group_year_month['count'].mean()\n"
   ]
  },
  {
   "cell_type": "code",
   "execution_count": 245,
   "metadata": {},
   "outputs": [
    {
     "data": {
      "text/plain": [
       "Int64Index([1, 2, 3, 4, 5, 6, 7, 8, 9, 10, 11, 12], dtype='int64', name='month')"
      ]
     },
     "execution_count": 245,
     "metadata": {},
     "output_type": "execute_result"
    }
   ],
   "source": [
    "average_year_month.index.levels[1]"
   ]
  },
  {
   "cell_type": "code",
   "execution_count": 246,
   "metadata": {},
   "outputs": [
    {
     "data": {
      "text/plain": [
       "month\n",
       "1      54.645012\n",
       "2      73.641256\n",
       "3      86.849776\n",
       "4     111.026374\n",
       "5     174.809211\n",
       "6     196.877193\n",
       "7     203.614035\n",
       "8     182.666667\n",
       "9     174.622517\n",
       "10    174.773626\n",
       "11    155.458333\n",
       "12    134.173246\n",
       "Name: count, dtype: float64"
      ]
     },
     "execution_count": 246,
     "metadata": {},
     "output_type": "execute_result"
    }
   ],
   "source": [
    "average_year_month[2011]"
   ]
  },
  {
   "cell_type": "code",
   "execution_count": 247,
   "metadata": {},
   "outputs": [
    {
     "data": {
      "image/png": "[encoded data removed]",
      "text/plain": [
       "<Figure size 432x288 with 1 Axes>"
      ]
     },
     "metadata": {},
     "output_type": "display_data"
    }
   ],
   "source": [
    "for year in average_year_month.index.levels[0]:\n",
    "    #print (year)\n",
    "    #print(average_year_month[year])\n",
    "    sns.lineplot(average_year_month[year].index,average_year_month[year],label=year)\n",
    "    \n",
    "plt.xlabel(\"Month\")\n",
    "plt.ylabel(\"Count\")\n",
    "plt.legend()\n",
    "plt.grid(True)\n",
    "plt.title(\" Average Monthly Rental Count for 2011 and 2012  \")\n",
    "plt.show()"
   ]
  },
  {
   "cell_type": "code",
   "execution_count": 248,
   "metadata": {},
   "outputs": [],
   "source": [
    "group_year_hour = df.groupby(['year','hour'])\n",
    "average_year_hour = group_year_hour['count'].mean()\n",
    "\n"
   ]
  },
  {
   "cell_type": "code",
   "execution_count": 249,
   "metadata": {},
   "outputs": [
    {
     "data": {
      "image/png": "[encoded data removed]",
      "text/plain": [
       "<Figure size 432x288 with 1 Axes>"
      ]
     },
     "metadata": {},
     "output_type": "display_data"
    }
   ],
   "source": [
    "for year in average_year_month.index.levels[0]:\n",
    "    #print (year)\n",
    "    #print(average_year_month[year])\n",
    "    sns.lineplot(average_year_hour[year].index,average_year_hour[year],label=year)\n",
    "    \n",
    "plt.xlabel(\"Month\")\n",
    "plt.ylabel(\"Count\")\n",
    "plt.legend()\n",
    "plt.grid(True)\n",
    "plt.title(\" Average Hour Rental Count for 2011 and 2012  \")\n",
    "plt.show()"
   ]
  },
  {
   "cell_type": "code",
   "execution_count": 250,
   "metadata": {},
   "outputs": [
    {
     "data": {
      "text/plain": [
       "Int64Index([ 0,  1,  2,  3,  4,  5,  6,  7,  8,  9, 10, 11, 12, 13, 14, 15, 16,\n",
       "            17, 18, 19, 20, 21, 22, 23],\n",
       "           dtype='int64', name='hour')"
      ]
     },
     "execution_count": 250,
     "metadata": {},
     "output_type": "execute_result"
    }
   ],
   "source": [
    "average_year_hour[year].index"
   ]
  },
  {
   "cell_type": "code",
   "execution_count": 251,
   "metadata": {},
   "outputs": [],
   "source": [
    "group_working_hour = df.groupby(['workingday','hour'])\n",
    "average_working_hour = group_working_hour['count'].mean()\n",
    "\n",
    "\n"
   ]
  },
  {
   "cell_type": "code",
   "execution_count": 252,
   "metadata": {},
   "outputs": [
    {
     "data": {
      "text/html": [
       "<div>\n",
       "<style scoped>\n",
       "    .dataframe tbody tr th:only-of-type {\n",
       "        vertical-align: middle;\n",
       "    }\n",
       "\n",
       "    .dataframe tbody tr th {\n",
       "        vertical-align: top;\n",
       "    }\n",
       "\n",
       "    .dataframe thead th {\n",
       "        text-align: right;\n",
       "    }\n",
       "</style>\n",
       "<table border=\"1\" class=\"dataframe\">\n",
       "  <thead>\n",
       "    <tr style=\"text-align: right;\">\n",
       "      <th></th>\n",
       "      <th>season</th>\n",
       "      <th>holiday</th>\n",
       "      <th>workingday</th>\n",
       "      <th>weather</th>\n",
       "      <th>temp</th>\n",
       "      <th>atemp</th>\n",
       "      <th>humidity</th>\n",
       "      <th>windspeed</th>\n",
       "      <th>casual</th>\n",
       "      <th>registered</th>\n",
       "      <th>count</th>\n",
       "      <th>year</th>\n",
       "      <th>month</th>\n",
       "      <th>day</th>\n",
       "      <th>dayofweek</th>\n",
       "      <th>hour</th>\n",
       "    </tr>\n",
       "    <tr>\n",
       "      <th>datetime</th>\n",
       "      <th></th>\n",
       "      <th></th>\n",
       "      <th></th>\n",
       "      <th></th>\n",
       "      <th></th>\n",
       "      <th></th>\n",
       "      <th></th>\n",
       "      <th></th>\n",
       "      <th></th>\n",
       "      <th></th>\n",
       "      <th></th>\n",
       "      <th></th>\n",
       "      <th></th>\n",
       "      <th></th>\n",
       "      <th></th>\n",
       "      <th></th>\n",
       "    </tr>\n",
       "  </thead>\n",
       "  <tbody>\n",
       "    <tr>\n",
       "      <th>2011-01-01 00:00:00</th>\n",
       "      <td>1</td>\n",
       "      <td>0</td>\n",
       "      <td>0</td>\n",
       "      <td>1</td>\n",
       "      <td>9.84</td>\n",
       "      <td>14.395</td>\n",
       "      <td>81</td>\n",
       "      <td>0.0000</td>\n",
       "      <td>3</td>\n",
       "      <td>13</td>\n",
       "      <td>16</td>\n",
       "      <td>2011</td>\n",
       "      <td>1</td>\n",
       "      <td>1</td>\n",
       "      <td>5</td>\n",
       "      <td>0</td>\n",
       "    </tr>\n",
       "    <tr>\n",
       "      <th>2011-01-01 01:00:00</th>\n",
       "      <td>1</td>\n",
       "      <td>0</td>\n",
       "      <td>0</td>\n",
       "      <td>1</td>\n",
       "      <td>9.02</td>\n",
       "      <td>13.635</td>\n",
       "      <td>80</td>\n",
       "      <td>0.0000</td>\n",
       "      <td>8</td>\n",
       "      <td>32</td>\n",
       "      <td>40</td>\n",
       "      <td>2011</td>\n",
       "      <td>1</td>\n",
       "      <td>1</td>\n",
       "      <td>5</td>\n",
       "      <td>1</td>\n",
       "    </tr>\n",
       "    <tr>\n",
       "      <th>2011-01-01 02:00:00</th>\n",
       "      <td>1</td>\n",
       "      <td>0</td>\n",
       "      <td>0</td>\n",
       "      <td>1</td>\n",
       "      <td>9.02</td>\n",
       "      <td>13.635</td>\n",
       "      <td>80</td>\n",
       "      <td>0.0000</td>\n",
       "      <td>5</td>\n",
       "      <td>27</td>\n",
       "      <td>32</td>\n",
       "      <td>2011</td>\n",
       "      <td>1</td>\n",
       "      <td>1</td>\n",
       "      <td>5</td>\n",
       "      <td>2</td>\n",
       "    </tr>\n",
       "    <tr>\n",
       "      <th>2011-01-01 03:00:00</th>\n",
       "      <td>1</td>\n",
       "      <td>0</td>\n",
       "      <td>0</td>\n",
       "      <td>1</td>\n",
       "      <td>9.84</td>\n",
       "      <td>14.395</td>\n",
       "      <td>75</td>\n",
       "      <td>0.0000</td>\n",
       "      <td>3</td>\n",
       "      <td>10</td>\n",
       "      <td>13</td>\n",
       "      <td>2011</td>\n",
       "      <td>1</td>\n",
       "      <td>1</td>\n",
       "      <td>5</td>\n",
       "      <td>3</td>\n",
       "    </tr>\n",
       "    <tr>\n",
       "      <th>2011-01-01 04:00:00</th>\n",
       "      <td>1</td>\n",
       "      <td>0</td>\n",
       "      <td>0</td>\n",
       "      <td>1</td>\n",
       "      <td>9.84</td>\n",
       "      <td>14.395</td>\n",
       "      <td>75</td>\n",
       "      <td>0.0000</td>\n",
       "      <td>0</td>\n",
       "      <td>1</td>\n",
       "      <td>1</td>\n",
       "      <td>2011</td>\n",
       "      <td>1</td>\n",
       "      <td>1</td>\n",
       "      <td>5</td>\n",
       "      <td>4</td>\n",
       "    </tr>\n",
       "    <tr>\n",
       "      <th>...</th>\n",
       "      <td>...</td>\n",
       "      <td>...</td>\n",
       "      <td>...</td>\n",
       "      <td>...</td>\n",
       "      <td>...</td>\n",
       "      <td>...</td>\n",
       "      <td>...</td>\n",
       "      <td>...</td>\n",
       "      <td>...</td>\n",
       "      <td>...</td>\n",
       "      <td>...</td>\n",
       "      <td>...</td>\n",
       "      <td>...</td>\n",
       "      <td>...</td>\n",
       "      <td>...</td>\n",
       "      <td>...</td>\n",
       "    </tr>\n",
       "    <tr>\n",
       "      <th>2011-01-15 22:00:00</th>\n",
       "      <td>1</td>\n",
       "      <td>0</td>\n",
       "      <td>0</td>\n",
       "      <td>2</td>\n",
       "      <td>12.30</td>\n",
       "      <td>15.910</td>\n",
       "      <td>42</td>\n",
       "      <td>7.0015</td>\n",
       "      <td>0</td>\n",
       "      <td>26</td>\n",
       "      <td>26</td>\n",
       "      <td>2011</td>\n",
       "      <td>1</td>\n",
       "      <td>15</td>\n",
       "      <td>5</td>\n",
       "      <td>22</td>\n",
       "    </tr>\n",
       "    <tr>\n",
       "      <th>2011-01-15 23:00:00</th>\n",
       "      <td>1</td>\n",
       "      <td>0</td>\n",
       "      <td>0</td>\n",
       "      <td>1</td>\n",
       "      <td>12.30</td>\n",
       "      <td>14.395</td>\n",
       "      <td>45</td>\n",
       "      <td>19.0012</td>\n",
       "      <td>5</td>\n",
       "      <td>39</td>\n",
       "      <td>44</td>\n",
       "      <td>2011</td>\n",
       "      <td>1</td>\n",
       "      <td>15</td>\n",
       "      <td>5</td>\n",
       "      <td>23</td>\n",
       "    </tr>\n",
       "    <tr>\n",
       "      <th>2011-01-16 05:00:00</th>\n",
       "      <td>1</td>\n",
       "      <td>0</td>\n",
       "      <td>0</td>\n",
       "      <td>2</td>\n",
       "      <td>10.66</td>\n",
       "      <td>12.880</td>\n",
       "      <td>56</td>\n",
       "      <td>11.0014</td>\n",
       "      <td>1</td>\n",
       "      <td>1</td>\n",
       "      <td>2</td>\n",
       "      <td>2011</td>\n",
       "      <td>1</td>\n",
       "      <td>16</td>\n",
       "      <td>6</td>\n",
       "      <td>5</td>\n",
       "    </tr>\n",
       "    <tr>\n",
       "      <th>2011-02-01 03:00:00</th>\n",
       "      <td>1</td>\n",
       "      <td>0</td>\n",
       "      <td>1</td>\n",
       "      <td>2</td>\n",
       "      <td>6.56</td>\n",
       "      <td>11.365</td>\n",
       "      <td>69</td>\n",
       "      <td>0.0000</td>\n",
       "      <td>0</td>\n",
       "      <td>2</td>\n",
       "      <td>2</td>\n",
       "      <td>2011</td>\n",
       "      <td>2</td>\n",
       "      <td>1</td>\n",
       "      <td>1</td>\n",
       "      <td>3</td>\n",
       "    </tr>\n",
       "    <tr>\n",
       "      <th>2011-02-02 03:00:00</th>\n",
       "      <td>1</td>\n",
       "      <td>0</td>\n",
       "      <td>1</td>\n",
       "      <td>3</td>\n",
       "      <td>9.02</td>\n",
       "      <td>11.365</td>\n",
       "      <td>93</td>\n",
       "      <td>8.9981</td>\n",
       "      <td>0</td>\n",
       "      <td>1</td>\n",
       "      <td>1</td>\n",
       "      <td>2011</td>\n",
       "      <td>2</td>\n",
       "      <td>2</td>\n",
       "      <td>2</td>\n",
       "      <td>3</td>\n",
       "    </tr>\n",
       "  </tbody>\n",
       "</table>\n",
       "<p>240 rows × 16 columns</p>\n",
       "</div>"
      ],
      "text/plain": [
       "                     season  holiday  workingday  weather   temp   atemp  \\\n",
       "datetime                                                                   \n",
       "2011-01-01 00:00:00       1        0           0        1   9.84  14.395   \n",
       "2011-01-01 01:00:00       1        0           0        1   9.02  13.635   \n",
       "2011-01-01 02:00:00       1        0           0        1   9.02  13.635   \n",
       "2011-01-01 03:00:00       1        0           0        1   9.84  14.395   \n",
       "2011-01-01 04:00:00       1        0           0        1   9.84  14.395   \n",
       "...                     ...      ...         ...      ...    ...     ...   \n",
       "2011-01-15 22:00:00       1        0           0        2  12.30  15.910   \n",
       "2011-01-15 23:00:00       1        0           0        1  12.30  14.395   \n",
       "2011-01-16 05:00:00       1        0           0        2  10.66  12.880   \n",
       "2011-02-01 03:00:00       1        0           1        2   6.56  11.365   \n",
       "2011-02-02 03:00:00       1        0           1        3   9.02  11.365   \n",
       "\n",
       "                     humidity  windspeed  casual  registered  count  year  \\\n",
       "datetime                                                                    \n",
       "2011-01-01 00:00:00        81     0.0000       3          13     16  2011   \n",
       "2011-01-01 01:00:00        80     0.0000       8          32     40  2011   \n",
       "2011-01-01 02:00:00        80     0.0000       5          27     32  2011   \n",
       "2011-01-01 03:00:00        75     0.0000       3          10     13  2011   \n",
       "2011-01-01 04:00:00        75     0.0000       0           1      1  2011   \n",
       "...                       ...        ...     ...         ...    ...   ...   \n",
       "2011-01-15 22:00:00        42     7.0015       0          26     26  2011   \n",
       "2011-01-15 23:00:00        45    19.0012       5          39     44  2011   \n",
       "2011-01-16 05:00:00        56    11.0014       1           1      2  2011   \n",
       "2011-02-01 03:00:00        69     0.0000       0           2      2  2011   \n",
       "2011-02-02 03:00:00        93     8.9981       0           1      1  2011   \n",
       "\n",
       "                     month  day  dayofweek  hour  \n",
       "datetime                                          \n",
       "2011-01-01 00:00:00      1    1          5     0  \n",
       "2011-01-01 01:00:00      1    1          5     1  \n",
       "2011-01-01 02:00:00      1    1          5     2  \n",
       "2011-01-01 03:00:00      1    1          5     3  \n",
       "2011-01-01 04:00:00      1    1          5     4  \n",
       "...                    ...  ...        ...   ...  \n",
       "2011-01-15 22:00:00      1   15          5    22  \n",
       "2011-01-15 23:00:00      1   15          5    23  \n",
       "2011-01-16 05:00:00      1   16          6     5  \n",
       "2011-02-01 03:00:00      2    1          1     3  \n",
       "2011-02-02 03:00:00      2    2          2     3  \n",
       "\n",
       "[240 rows x 16 columns]"
      ]
     },
     "execution_count": 252,
     "metadata": {},
     "output_type": "execute_result"
    }
   ],
   "source": [
    "group_working_hour.head()"
   ]
  },
  {
   "cell_type": "code",
   "execution_count": 253,
   "metadata": {},
   "outputs": [
    {
     "data": {
      "text/plain": [
       "workingday  hour\n",
       "0           0       94.489655\n",
       "            1       71.910345\n",
       "            2       53.748252\n",
       "            3       25.534722\n",
       "            4        8.544828\n",
       "Name: count, dtype: float64"
      ]
     },
     "execution_count": 253,
     "metadata": {},
     "output_type": "execute_result"
    }
   ],
   "source": [
    "average_working_hour.head()"
   ]
  },
  {
   "cell_type": "code",
   "execution_count": 254,
   "metadata": {},
   "outputs": [
    {
     "data": {
      "image/png": "[encoded data removed]",
      "text/plain": [
       "<Figure size 432x288 with 1 Axes>"
      ]
     },
     "metadata": {},
     "output_type": "display_data"
    }
   ],
   "source": [
    "for workingday in average_working_hour.index.levels[0]:\n",
    "    #print (year)\n",
    "    #print(average_year_month[year])\n",
    "    sns.lineplot(average_working_hour[workingday].index,average_working_hour[workingday],label=workingday)\n",
    "    \n",
    "plt.xlabel(\"Hour\")\n",
    "plt.ylabel(\"Count\")\n",
    "plt.legend()\n",
    "plt.grid(True)\n",
    "plt.xticks(np.arange(24))\n",
    "plt.title(\" Average Hourly Rental Count by workingday  \")\n",
    "plt.show()"
   ]
  },
  {
   "cell_type": "code",
   "execution_count": 255,
   "metadata": {},
   "outputs": [
    {
     "data": {
      "text/plain": [
       "Index(['season', 'holiday', 'workingday', 'weather', 'temp', 'atemp',\n",
       "       'humidity', 'windspeed', 'casual', 'registered', 'count', 'year',\n",
       "       'month', 'day', 'dayofweek', 'hour'],\n",
       "      dtype='object')"
      ]
     },
     "execution_count": 255,
     "metadata": {},
     "output_type": "execute_result"
    }
   ],
   "source": [
    "df.keys()"
   ]
  },
  {
   "cell_type": "code",
   "execution_count": 256,
   "metadata": {},
   "outputs": [
    {
     "data": {
      "text/html": [
       "<div>\n",
       "<style scoped>\n",
       "    .dataframe tbody tr th:only-of-type {\n",
       "        vertical-align: middle;\n",
       "    }\n",
       "\n",
       "    .dataframe tbody tr th {\n",
       "        vertical-align: top;\n",
       "    }\n",
       "\n",
       "    .dataframe thead th {\n",
       "        text-align: right;\n",
       "    }\n",
       "</style>\n",
       "<table border=\"1\" class=\"dataframe\">\n",
       "  <thead>\n",
       "    <tr style=\"text-align: right;\">\n",
       "      <th></th>\n",
       "      <th>season</th>\n",
       "      <th>holiday</th>\n",
       "      <th>workingday</th>\n",
       "      <th>weather</th>\n",
       "      <th>temp</th>\n",
       "      <th>atemp</th>\n",
       "      <th>humidity</th>\n",
       "      <th>windspeed</th>\n",
       "      <th>casual</th>\n",
       "      <th>registered</th>\n",
       "      <th>count</th>\n",
       "      <th>year</th>\n",
       "      <th>month</th>\n",
       "      <th>day</th>\n",
       "      <th>dayofweek</th>\n",
       "      <th>hour</th>\n",
       "    </tr>\n",
       "    <tr>\n",
       "      <th>datetime</th>\n",
       "      <th></th>\n",
       "      <th></th>\n",
       "      <th></th>\n",
       "      <th></th>\n",
       "      <th></th>\n",
       "      <th></th>\n",
       "      <th></th>\n",
       "      <th></th>\n",
       "      <th></th>\n",
       "      <th></th>\n",
       "      <th></th>\n",
       "      <th></th>\n",
       "      <th></th>\n",
       "      <th></th>\n",
       "      <th></th>\n",
       "      <th></th>\n",
       "    </tr>\n",
       "  </thead>\n",
       "  <tbody>\n",
       "    <tr>\n",
       "      <th>2011-01-01 00:00:00</th>\n",
       "      <td>1</td>\n",
       "      <td>0</td>\n",
       "      <td>0</td>\n",
       "      <td>1</td>\n",
       "      <td>9.84</td>\n",
       "      <td>14.395</td>\n",
       "      <td>81</td>\n",
       "      <td>0.0</td>\n",
       "      <td>3</td>\n",
       "      <td>13</td>\n",
       "      <td>16</td>\n",
       "      <td>2011</td>\n",
       "      <td>1</td>\n",
       "      <td>1</td>\n",
       "      <td>5</td>\n",
       "      <td>0</td>\n",
       "    </tr>\n",
       "    <tr>\n",
       "      <th>2011-01-01 01:00:00</th>\n",
       "      <td>1</td>\n",
       "      <td>0</td>\n",
       "      <td>0</td>\n",
       "      <td>1</td>\n",
       "      <td>9.02</td>\n",
       "      <td>13.635</td>\n",
       "      <td>80</td>\n",
       "      <td>0.0</td>\n",
       "      <td>8</td>\n",
       "      <td>32</td>\n",
       "      <td>40</td>\n",
       "      <td>2011</td>\n",
       "      <td>1</td>\n",
       "      <td>1</td>\n",
       "      <td>5</td>\n",
       "      <td>1</td>\n",
       "    </tr>\n",
       "    <tr>\n",
       "      <th>2011-01-01 02:00:00</th>\n",
       "      <td>1</td>\n",
       "      <td>0</td>\n",
       "      <td>0</td>\n",
       "      <td>1</td>\n",
       "      <td>9.02</td>\n",
       "      <td>13.635</td>\n",
       "      <td>80</td>\n",
       "      <td>0.0</td>\n",
       "      <td>5</td>\n",
       "      <td>27</td>\n",
       "      <td>32</td>\n",
       "      <td>2011</td>\n",
       "      <td>1</td>\n",
       "      <td>1</td>\n",
       "      <td>5</td>\n",
       "      <td>2</td>\n",
       "    </tr>\n",
       "    <tr>\n",
       "      <th>2011-01-01 03:00:00</th>\n",
       "      <td>1</td>\n",
       "      <td>0</td>\n",
       "      <td>0</td>\n",
       "      <td>1</td>\n",
       "      <td>9.84</td>\n",
       "      <td>14.395</td>\n",
       "      <td>75</td>\n",
       "      <td>0.0</td>\n",
       "      <td>3</td>\n",
       "      <td>10</td>\n",
       "      <td>13</td>\n",
       "      <td>2011</td>\n",
       "      <td>1</td>\n",
       "      <td>1</td>\n",
       "      <td>5</td>\n",
       "      <td>3</td>\n",
       "    </tr>\n",
       "    <tr>\n",
       "      <th>2011-01-01 04:00:00</th>\n",
       "      <td>1</td>\n",
       "      <td>0</td>\n",
       "      <td>0</td>\n",
       "      <td>1</td>\n",
       "      <td>9.84</td>\n",
       "      <td>14.395</td>\n",
       "      <td>75</td>\n",
       "      <td>0.0</td>\n",
       "      <td>0</td>\n",
       "      <td>1</td>\n",
       "      <td>1</td>\n",
       "      <td>2011</td>\n",
       "      <td>1</td>\n",
       "      <td>1</td>\n",
       "      <td>5</td>\n",
       "      <td>4</td>\n",
       "    </tr>\n",
       "  </tbody>\n",
       "</table>\n",
       "</div>"
      ],
      "text/plain": [
       "                     season  holiday  workingday  weather  temp   atemp  \\\n",
       "datetime                                                                  \n",
       "2011-01-01 00:00:00       1        0           0        1  9.84  14.395   \n",
       "2011-01-01 01:00:00       1        0           0        1  9.02  13.635   \n",
       "2011-01-01 02:00:00       1        0           0        1  9.02  13.635   \n",
       "2011-01-01 03:00:00       1        0           0        1  9.84  14.395   \n",
       "2011-01-01 04:00:00       1        0           0        1  9.84  14.395   \n",
       "\n",
       "                     humidity  windspeed  casual  registered  count  year  \\\n",
       "datetime                                                                    \n",
       "2011-01-01 00:00:00        81        0.0       3          13     16  2011   \n",
       "2011-01-01 01:00:00        80        0.0       8          32     40  2011   \n",
       "2011-01-01 02:00:00        80        0.0       5          27     32  2011   \n",
       "2011-01-01 03:00:00        75        0.0       3          10     13  2011   \n",
       "2011-01-01 04:00:00        75        0.0       0           1      1  2011   \n",
       "\n",
       "                     month  day  dayofweek  hour  \n",
       "datetime                                          \n",
       "2011-01-01 00:00:00      1    1          5     0  \n",
       "2011-01-01 01:00:00      1    1          5     1  \n",
       "2011-01-01 02:00:00      1    1          5     2  \n",
       "2011-01-01 03:00:00      1    1          5     3  \n",
       "2011-01-01 04:00:00      1    1          5     4  "
      ]
     },
     "execution_count": 256,
     "metadata": {},
     "output_type": "execute_result"
    }
   ],
   "source": [
    "df.head()"
   ]
  },
  {
   "cell_type": "code",
   "execution_count": 257,
   "metadata": {},
   "outputs": [
    {
     "data": {
      "text/plain": [
       "season        0.163439\n",
       "holiday      -0.005393\n",
       "workingday    0.011594\n",
       "weather      -0.128655\n",
       "temp          0.394454\n",
       "atemp         0.389784\n",
       "humidity     -0.317371\n",
       "windspeed     0.101369\n",
       "casual        0.690414\n",
       "registered    0.970948\n",
       "count         1.000000\n",
       "year          0.260403\n",
       "month         0.166862\n",
       "day           0.019826\n",
       "dayofweek    -0.002283\n",
       "hour          0.400601\n",
       "Name: count, dtype: float64"
      ]
     },
     "execution_count": 257,
     "metadata": {},
     "output_type": "execute_result"
    }
   ],
   "source": [
    "# correlatin \n",
    "df.corr()['count']"
   ]
  },
  {
   "cell_type": "code",
   "execution_count": 258,
   "metadata": {},
   "outputs": [
    {
     "data": {
      "image/png": "[encoded data removed]",
      "text/plain": [
       "<Figure size 432x288 with 1 Axes>"
      ]
     },
     "metadata": {},
     "output_type": "display_data"
    }
   ],
   "source": [
    "# any relation between  temperature and rental count?\n",
    "g=sns.scatterplot(x=df.temp, y=df['count'])\n",
    "g.set(xlabel=\"Temperature\", ylabel=\"Count\", title=\"Temperature Vs Count \", ) \n",
    "# plt.xlabel(\"Temperature\")\n",
    "# plt.ylabel(\"Count\")\n",
    "# plt.grid(True)\n",
    "# plt.title(\" Temperature Vs Count  \")\n",
    "plt.show()"
   ]
  },
  {
   "cell_type": "code",
   "execution_count": 259,
   "metadata": {},
   "outputs": [
    {
     "data": {
      "text/plain": [
       "'/Users/medamin/_Projets/bikeSharing'"
      ]
     },
     "execution_count": 259,
     "metadata": {},
     "output_type": "execute_result"
    }
   ],
   "source": [
    "pwd\n"
   ]
  },
  {
   "cell_type": "code",
   "execution_count": null,
   "metadata": {},
   "outputs": [],
   "source": []
  },
  {
   "cell_type": "code",
   "execution_count": 414,
   "metadata": {},
   "outputs": [
    {
     "data": {
      "text/plain": [
       "Index(['season', 'holiday', 'workingday', 'weather', 'temp', 'atemp',\n",
       "       'humidity', 'windspeed', 'casual', 'registered', 'count', 'year',\n",
       "       'month', 'day', 'dayofweek', 'hour'],\n",
       "      dtype='object')"
      ]
     },
     "execution_count": 414,
     "metadata": {},
     "output_type": "execute_result"
    }
   ],
   "source": [
    "df.columns"
   ]
  },
  {
   "cell_type": "code",
   "execution_count": 415,
   "metadata": {},
   "outputs": [],
   "source": [
    "X = df_tr.drop(['count', 'registered', 'casual'], axis=1)\n",
    "y = df_tr['count']\n",
    "\n"
   ]
  },
  {
   "cell_type": "code",
   "execution_count": 416,
   "metadata": {},
   "outputs": [],
   "source": [
    "X_train, X_test, y_train, y_test \\\n",
    "   = train_test_split(X, y, test_size=0.2, random_state=1)\n",
    "\n",
    "X_train, X_val, y_train, y_val \\\n",
    "    = train_test_split(X_train, y_train, test_size=0.2, random_state=1)"
   ]
  },
  {
   "cell_type": "code",
   "execution_count": 417,
   "metadata": {},
   "outputs": [
    {
     "data": {
      "text/plain": [
       "((6966, 13), (2178, 13), (6966,), (2178,))"
      ]
     },
     "execution_count": 417,
     "metadata": {},
     "output_type": "execute_result"
    }
   ],
   "source": [
    "X_train.shape, X_test.shape, y_train.shape, y_test.shape"
   ]
  },
  {
   "cell_type": "code",
   "execution_count": 418,
   "metadata": {},
   "outputs": [],
   "source": [
    "regressor=xgb.XGBRegressor(max_depth=5, n_estimators=150)"
   ]
  },
  {
   "cell_type": "code",
   "execution_count": 419,
   "metadata": {},
   "outputs": [
    {
     "data": {
      "text/plain": [
       "XGBRegressor(base_score=0.5, booster='gbtree', colsample_bylevel=1,\n",
       "             colsample_bynode=1, colsample_bytree=1, gamma=0,\n",
       "             importance_type='gain', learning_rate=0.1, max_delta_step=0,\n",
       "             max_depth=5, min_child_weight=1, missing=None, n_estimators=150,\n",
       "             n_jobs=1, nthread=None, objective='reg:linear', random_state=0,\n",
       "             reg_alpha=0, reg_lambda=1, scale_pos_weight=1, seed=None,\n",
       "             silent=None, subsample=1, verbosity=1)"
      ]
     },
     "execution_count": 419,
     "metadata": {},
     "output_type": "execute_result"
    }
   ],
   "source": [
    "regressor"
   ]
  },
  {
   "cell_type": "code",
   "execution_count": 420,
   "metadata": {},
   "outputs": [
    {
     "name": "stdout",
     "output_type": "stream",
     "text": [
      "[14:06:26] WARNING: src/objective/regression_obj.cu:152: reg:linear is now deprecated in favor of reg:squarederror.\n",
      "[0]\tvalidation_0-rmse:240.088\tvalidation_1-rmse:240.043\n",
      "[1]\tvalidation_0-rmse:221.004\tvalidation_1-rmse:220.856\n",
      "[2]\tvalidation_0-rmse:204.105\tvalidation_1-rmse:204.119\n",
      "[3]\tvalidation_0-rmse:189.135\tvalidation_1-rmse:189.36\n",
      "[4]\tvalidation_0-rmse:176.034\tvalidation_1-rmse:176.262\n",
      "[5]\tvalidation_0-rmse:164.756\tvalidation_1-rmse:165.048\n",
      "[6]\tvalidation_0-rmse:154.652\tvalidation_1-rmse:155.027\n",
      "[7]\tvalidation_0-rmse:145.904\tvalidation_1-rmse:146.293\n"
     ]
    },
    {
     "name": "stderr",
     "output_type": "stream",
     "text": [
      "/Users/anaconda3/lib/python3.7/site-packages/xgboost/core.py:587: FutureWarning: Series.base is deprecated and will be removed in a future version\n",
      "  if getattr(data, 'base', None) is not None and \\\n"
     ]
    },
    {
     "name": "stdout",
     "output_type": "stream",
     "text": [
      "[8]\tvalidation_0-rmse:138.32\tvalidation_1-rmse:138.822\n",
      "[9]\tvalidation_0-rmse:131.576\tvalidation_1-rmse:132.24\n",
      "[10]\tvalidation_0-rmse:124.305\tvalidation_1-rmse:125.256\n",
      "[11]\tvalidation_0-rmse:118.07\tvalidation_1-rmse:119.318\n",
      "[12]\tvalidation_0-rmse:110.303\tvalidation_1-rmse:111.22\n",
      "[13]\tvalidation_0-rmse:105.064\tvalidation_1-rmse:105.787\n",
      "[14]\tvalidation_0-rmse:100.613\tvalidation_1-rmse:101.442\n",
      "[15]\tvalidation_0-rmse:95.8248\tvalidation_1-rmse:96.7013\n",
      "[16]\tvalidation_0-rmse:92.4558\tvalidation_1-rmse:93.3187\n",
      "[17]\tvalidation_0-rmse:89.4898\tvalidation_1-rmse:90.5547\n",
      "[18]\tvalidation_0-rmse:86.0617\tvalidation_1-rmse:87.1416\n",
      "[19]\tvalidation_0-rmse:83.1039\tvalidation_1-rmse:84.2239\n",
      "[20]\tvalidation_0-rmse:80.224\tvalidation_1-rmse:81.4722\n",
      "[21]\tvalidation_0-rmse:78.0548\tvalidation_1-rmse:79.3142\n",
      "[22]\tvalidation_0-rmse:75.7716\tvalidation_1-rmse:77.1072\n",
      "[23]\tvalidation_0-rmse:72.3793\tvalidation_1-rmse:73.6719\n",
      "[24]\tvalidation_0-rmse:70.9559\tvalidation_1-rmse:72.4327\n",
      "[25]\tvalidation_0-rmse:69.8401\tvalidation_1-rmse:71.473\n",
      "[26]\tvalidation_0-rmse:68.7469\tvalidation_1-rmse:70.5256\n",
      "[27]\tvalidation_0-rmse:66.1139\tvalidation_1-rmse:67.8835\n",
      "[28]\tvalidation_0-rmse:65.3118\tvalidation_1-rmse:67.2931\n",
      "[29]\tvalidation_0-rmse:62.6731\tvalidation_1-rmse:64.6587\n",
      "[30]\tvalidation_0-rmse:61.8241\tvalidation_1-rmse:64.0779\n",
      "[31]\tvalidation_0-rmse:60.8144\tvalidation_1-rmse:63.2115\n",
      "[32]\tvalidation_0-rmse:60.0849\tvalidation_1-rmse:62.7082\n",
      "[33]\tvalidation_0-rmse:59.5409\tvalidation_1-rmse:62.3387\n",
      "[34]\tvalidation_0-rmse:58.3618\tvalidation_1-rmse:61.3234\n",
      "[35]\tvalidation_0-rmse:57.5615\tvalidation_1-rmse:60.6879\n",
      "[36]\tvalidation_0-rmse:55.9678\tvalidation_1-rmse:59.1039\n",
      "[37]\tvalidation_0-rmse:55.2243\tvalidation_1-rmse:58.5427\n",
      "[38]\tvalidation_0-rmse:54.4635\tvalidation_1-rmse:57.9107\n",
      "[39]\tvalidation_0-rmse:53.2174\tvalidation_1-rmse:56.6742\n",
      "[40]\tvalidation_0-rmse:52.7131\tvalidation_1-rmse:56.3067\n",
      "[41]\tvalidation_0-rmse:52.3346\tvalidation_1-rmse:56.0449\n",
      "[42]\tvalidation_0-rmse:51.1311\tvalidation_1-rmse:54.92\n",
      "[43]\tvalidation_0-rmse:50.7713\tvalidation_1-rmse:54.5916\n",
      "[44]\tvalidation_0-rmse:50.4048\tvalidation_1-rmse:54.3676\n",
      "[45]\tvalidation_0-rmse:49.5326\tvalidation_1-rmse:53.5024\n",
      "[46]\tvalidation_0-rmse:49.1116\tvalidation_1-rmse:53.1871\n",
      "[47]\tvalidation_0-rmse:48.7428\tvalidation_1-rmse:52.9475\n",
      "[48]\tvalidation_0-rmse:47.9574\tvalidation_1-rmse:52.2659\n",
      "[49]\tvalidation_0-rmse:47.7349\tvalidation_1-rmse:52.1405\n",
      "[50]\tvalidation_0-rmse:47.1374\tvalidation_1-rmse:51.57\n",
      "[51]\tvalidation_0-rmse:46.8253\tvalidation_1-rmse:51.2575\n",
      "[52]\tvalidation_0-rmse:46.6148\tvalidation_1-rmse:51.101\n",
      "[53]\tvalidation_0-rmse:46.3622\tvalidation_1-rmse:50.9302\n",
      "[54]\tvalidation_0-rmse:45.8115\tvalidation_1-rmse:50.4928\n",
      "[55]\tvalidation_0-rmse:45.5756\tvalidation_1-rmse:50.4094\n",
      "[56]\tvalidation_0-rmse:44.9428\tvalidation_1-rmse:49.7901\n",
      "[57]\tvalidation_0-rmse:44.5669\tvalidation_1-rmse:49.4015\n",
      "[58]\tvalidation_0-rmse:44.4284\tvalidation_1-rmse:49.324\n",
      "[59]\tvalidation_0-rmse:44.2503\tvalidation_1-rmse:49.1792\n",
      "[60]\tvalidation_0-rmse:43.9405\tvalidation_1-rmse:48.8426\n",
      "[61]\tvalidation_0-rmse:43.8086\tvalidation_1-rmse:48.7665\n",
      "[62]\tvalidation_0-rmse:43.5903\tvalidation_1-rmse:48.6447\n",
      "[63]\tvalidation_0-rmse:43.3061\tvalidation_1-rmse:48.426\n",
      "[64]\tvalidation_0-rmse:43.0268\tvalidation_1-rmse:48.2886\n",
      "[65]\tvalidation_0-rmse:42.9105\tvalidation_1-rmse:48.1923\n",
      "[66]\tvalidation_0-rmse:42.7485\tvalidation_1-rmse:48.0903\n",
      "[67]\tvalidation_0-rmse:42.6298\tvalidation_1-rmse:48.0018\n",
      "[68]\tvalidation_0-rmse:42.474\tvalidation_1-rmse:47.9548\n",
      "[69]\tvalidation_0-rmse:42.3773\tvalidation_1-rmse:47.9255\n",
      "[70]\tvalidation_0-rmse:42.2688\tvalidation_1-rmse:47.8477\n",
      "[71]\tvalidation_0-rmse:42.1515\tvalidation_1-rmse:47.7757\n",
      "[72]\tvalidation_0-rmse:41.5992\tvalidation_1-rmse:47.2964\n",
      "[73]\tvalidation_0-rmse:41.3332\tvalidation_1-rmse:47.1044\n",
      "[74]\tvalidation_0-rmse:41.1844\tvalidation_1-rmse:47.0322\n",
      "[75]\tvalidation_0-rmse:41.1179\tvalidation_1-rmse:47.0047\n",
      "[76]\tvalidation_0-rmse:41.0063\tvalidation_1-rmse:46.9216\n",
      "[77]\tvalidation_0-rmse:40.9223\tvalidation_1-rmse:46.8815\n",
      "[78]\tvalidation_0-rmse:40.8112\tvalidation_1-rmse:46.845\n",
      "[79]\tvalidation_0-rmse:40.6915\tvalidation_1-rmse:46.7348\n",
      "[80]\tvalidation_0-rmse:40.6106\tvalidation_1-rmse:46.701\n",
      "[81]\tvalidation_0-rmse:40.5176\tvalidation_1-rmse:46.6706\n",
      "[82]\tvalidation_0-rmse:40.0948\tvalidation_1-rmse:46.3405\n",
      "[83]\tvalidation_0-rmse:39.9776\tvalidation_1-rmse:46.3098\n",
      "[84]\tvalidation_0-rmse:39.8686\tvalidation_1-rmse:46.2552\n",
      "[85]\tvalidation_0-rmse:39.7362\tvalidation_1-rmse:46.2313\n",
      "[86]\tvalidation_0-rmse:39.6501\tvalidation_1-rmse:46.2073\n",
      "[87]\tvalidation_0-rmse:39.5144\tvalidation_1-rmse:46.0964\n",
      "[88]\tvalidation_0-rmse:39.1772\tvalidation_1-rmse:45.8269\n",
      "[89]\tvalidation_0-rmse:39.1336\tvalidation_1-rmse:45.8154\n",
      "[90]\tvalidation_0-rmse:39.0854\tvalidation_1-rmse:45.8078\n",
      "[91]\tvalidation_0-rmse:39.0028\tvalidation_1-rmse:45.7844\n",
      "[92]\tvalidation_0-rmse:38.9615\tvalidation_1-rmse:45.7863\n",
      "[93]\tvalidation_0-rmse:38.8178\tvalidation_1-rmse:45.7377\n",
      "[94]\tvalidation_0-rmse:38.6094\tvalidation_1-rmse:45.5637\n",
      "[95]\tvalidation_0-rmse:38.5407\tvalidation_1-rmse:45.5404\n",
      "[96]\tvalidation_0-rmse:38.5036\tvalidation_1-rmse:45.5078\n",
      "[97]\tvalidation_0-rmse:38.4359\tvalidation_1-rmse:45.4446\n",
      "[98]\tvalidation_0-rmse:38.3579\tvalidation_1-rmse:45.408\n",
      "[99]\tvalidation_0-rmse:38.0346\tvalidation_1-rmse:45.1438\n",
      "[100]\tvalidation_0-rmse:37.9375\tvalidation_1-rmse:45.1254\n",
      "[101]\tvalidation_0-rmse:37.8636\tvalidation_1-rmse:45.1019\n",
      "[102]\tvalidation_0-rmse:37.7205\tvalidation_1-rmse:45.0316\n",
      "[103]\tvalidation_0-rmse:37.6152\tvalidation_1-rmse:45.0111\n",
      "[104]\tvalidation_0-rmse:37.5389\tvalidation_1-rmse:44.9804\n",
      "[105]\tvalidation_0-rmse:37.2154\tvalidation_1-rmse:44.7189\n",
      "[106]\tvalidation_0-rmse:37.1945\tvalidation_1-rmse:44.7034\n",
      "[107]\tvalidation_0-rmse:37.1114\tvalidation_1-rmse:44.6552\n",
      "[108]\tvalidation_0-rmse:37.0748\tvalidation_1-rmse:44.6222\n",
      "[109]\tvalidation_0-rmse:37.0176\tvalidation_1-rmse:44.5932\n",
      "[110]\tvalidation_0-rmse:36.8845\tvalidation_1-rmse:44.4845\n",
      "[111]\tvalidation_0-rmse:36.8621\tvalidation_1-rmse:44.4737\n",
      "[112]\tvalidation_0-rmse:36.791\tvalidation_1-rmse:44.4282\n",
      "[113]\tvalidation_0-rmse:36.5265\tvalidation_1-rmse:44.2451\n",
      "[114]\tvalidation_0-rmse:36.4358\tvalidation_1-rmse:44.2004\n",
      "[115]\tvalidation_0-rmse:36.2049\tvalidation_1-rmse:44.105\n",
      "[116]\tvalidation_0-rmse:36.1239\tvalidation_1-rmse:44.0737\n",
      "[117]\tvalidation_0-rmse:36.0705\tvalidation_1-rmse:44.0643\n",
      "[118]\tvalidation_0-rmse:35.9668\tvalidation_1-rmse:44.0104\n",
      "[119]\tvalidation_0-rmse:35.9524\tvalidation_1-rmse:44.0089\n",
      "[120]\tvalidation_0-rmse:35.9194\tvalidation_1-rmse:44.0052\n",
      "[121]\tvalidation_0-rmse:35.8926\tvalidation_1-rmse:43.992\n",
      "[122]\tvalidation_0-rmse:35.7557\tvalidation_1-rmse:43.8763\n",
      "[123]\tvalidation_0-rmse:35.6988\tvalidation_1-rmse:43.8526\n",
      "[124]\tvalidation_0-rmse:35.5698\tvalidation_1-rmse:43.7798\n",
      "[125]\tvalidation_0-rmse:35.5577\tvalidation_1-rmse:43.7666\n",
      "[126]\tvalidation_0-rmse:35.5044\tvalidation_1-rmse:43.7345\n",
      "[127]\tvalidation_0-rmse:35.4262\tvalidation_1-rmse:43.7136\n",
      "[128]\tvalidation_0-rmse:35.2986\tvalidation_1-rmse:43.6224\n",
      "[129]\tvalidation_0-rmse:35.2134\tvalidation_1-rmse:43.6017\n",
      "[130]\tvalidation_0-rmse:35.185\tvalidation_1-rmse:43.5813\n",
      "[131]\tvalidation_0-rmse:35.157\tvalidation_1-rmse:43.5728\n",
      "[132]\tvalidation_0-rmse:35.1103\tvalidation_1-rmse:43.5277\n",
      "[133]\tvalidation_0-rmse:35.0004\tvalidation_1-rmse:43.48\n",
      "[134]\tvalidation_0-rmse:34.9573\tvalidation_1-rmse:43.5072\n",
      "[135]\tvalidation_0-rmse:34.9085\tvalidation_1-rmse:43.4987\n",
      "[136]\tvalidation_0-rmse:34.8016\tvalidation_1-rmse:43.4571\n",
      "[137]\tvalidation_0-rmse:34.711\tvalidation_1-rmse:43.4361\n",
      "[138]\tvalidation_0-rmse:34.6137\tvalidation_1-rmse:43.3739\n",
      "[139]\tvalidation_0-rmse:34.6032\tvalidation_1-rmse:43.3764\n",
      "[140]\tvalidation_0-rmse:34.5554\tvalidation_1-rmse:43.3237\n",
      "[141]\tvalidation_0-rmse:34.5411\tvalidation_1-rmse:43.3294\n",
      "[142]\tvalidation_0-rmse:34.4942\tvalidation_1-rmse:43.3112\n",
      "[143]\tvalidation_0-rmse:34.4077\tvalidation_1-rmse:43.2806\n",
      "[144]\tvalidation_0-rmse:34.3032\tvalidation_1-rmse:43.2009\n",
      "[145]\tvalidation_0-rmse:34.2216\tvalidation_1-rmse:43.1546\n",
      "[146]\tvalidation_0-rmse:34.1766\tvalidation_1-rmse:43.1409\n",
      "[147]\tvalidation_0-rmse:34.1563\tvalidation_1-rmse:43.1194\n",
      "[148]\tvalidation_0-rmse:34.1165\tvalidation_1-rmse:43.1143\n",
      "[149]\tvalidation_0-rmse:34.0487\tvalidation_1-rmse:43.108\n"
     ]
    },
    {
     "data": {
      "text/plain": [
       "XGBRegressor(base_score=0.5, booster='gbtree', colsample_bylevel=1,\n",
       "             colsample_bynode=1, colsample_bytree=1, gamma=0,\n",
       "             importance_type='gain', learning_rate=0.1, max_delta_step=0,\n",
       "             max_depth=5, min_child_weight=1, missing=None, n_estimators=150,\n",
       "             n_jobs=1, nthread=None, objective='reg:linear', random_state=0,\n",
       "             reg_alpha=0, reg_lambda=1, scale_pos_weight=1, seed=None,\n",
       "             silent=None, subsample=1, verbosity=1)"
      ]
     },
     "execution_count": 420,
     "metadata": {},
     "output_type": "execute_result"
    }
   ],
   "source": [
    "regressor.fit(X_train, y_train, eval_set=[(X_train, y_train), (X_val, y_val)])"
   ]
  },
  {
   "cell_type": "code",
   "execution_count": 367,
   "metadata": {},
   "outputs": [],
   "source": [
    "eval_result=regressor.evals_result()"
   ]
  },
  {
   "cell_type": "code",
   "execution_count": 368,
   "metadata": {},
   "outputs": [],
   "source": [
    "training_rounds=range(len(eval_result['validation_0']['rmse']))"
   ]
  },
  {
   "cell_type": "code",
   "execution_count": 369,
   "metadata": {},
   "outputs": [
    {
     "name": "stdout",
     "output_type": "stream",
     "text": [
      "range(0, 150)\n"
     ]
    }
   ],
   "source": [
    "print(training_rounds)"
   ]
  },
  {
   "cell_type": "code",
   "execution_count": 384,
   "metadata": {},
   "outputs": [
    {
     "data": {
      "image/png": "[encoded data removed]",
      "text/plain": [
       "<Figure size 720x720 with 1 Axes>"
      ]
     },
     "metadata": {
      "needs_background": "light"
     },
     "output_type": "display_data"
    }
   ],
   "source": [
    "plt.rcParams[\"figure.figsize\"]=(10,10)\n",
    "ax=sns.scatterplot(training_rounds, eval_result['validation_0']['rmse'])\n",
    "ax=sns.scatterplot(training_rounds, eval_result['validation_1']['rmse'])\n",
    "ax.set(xlabel=\" Iteration \", ylabel=\"RMSE\", title=\"Training Vs Validation Error\")\n",
    "plt.show()"
   ]
  },
  {
   "cell_type": "code",
   "execution_count": 421,
   "metadata": {},
   "outputs": [
    {
     "data": {
      "text/plain": [
       "<Figure size 720x720 with 0 Axes>"
      ]
     },
     "metadata": {},
     "output_type": "display_data"
    },
    {
     "data": {
      "image/png": "[encoded data removed]",
      "text/plain": [
       "<Figure size 720x720 with 1 Axes>"
      ]
     },
     "metadata": {
      "needs_background": "light"
     },
     "output_type": "display_data"
    }
   ],
   "source": [
    "plt.figure(figsize=(10,10))\n",
    "xgb.plot_importance(regressor)\n",
    "plt.show()"
   ]
  },
  {
   "cell_type": "code",
   "execution_count": 422,
   "metadata": {},
   "outputs": [
    {
     "data": {
      "text/html": [
       "<div>\n",
       "<style scoped>\n",
       "    .dataframe tbody tr th:only-of-type {\n",
       "        vertical-align: middle;\n",
       "    }\n",
       "\n",
       "    .dataframe tbody tr th {\n",
       "        vertical-align: top;\n",
       "    }\n",
       "\n",
       "    .dataframe thead th {\n",
       "        text-align: right;\n",
       "    }\n",
       "</style>\n",
       "<table border=\"1\" class=\"dataframe\">\n",
       "  <thead>\n",
       "    <tr style=\"text-align: right;\">\n",
       "      <th></th>\n",
       "      <th>season</th>\n",
       "      <th>holiday</th>\n",
       "      <th>workingday</th>\n",
       "      <th>weather</th>\n",
       "      <th>temp</th>\n",
       "      <th>atemp</th>\n",
       "      <th>humidity</th>\n",
       "      <th>windspeed</th>\n",
       "      <th>year</th>\n",
       "      <th>month</th>\n",
       "      <th>day</th>\n",
       "      <th>dayofweek</th>\n",
       "      <th>hour</th>\n",
       "    </tr>\n",
       "  </thead>\n",
       "  <tbody>\n",
       "    <tr>\n",
       "      <th>3709</th>\n",
       "      <td>3</td>\n",
       "      <td>1</td>\n",
       "      <td>0</td>\n",
       "      <td>2</td>\n",
       "      <td>28.70</td>\n",
       "      <td>33.335</td>\n",
       "      <td>74</td>\n",
       "      <td>11.0014</td>\n",
       "      <td>2011</td>\n",
       "      <td>9</td>\n",
       "      <td>5</td>\n",
       "      <td>0</td>\n",
       "      <td>11</td>\n",
       "    </tr>\n",
       "    <tr>\n",
       "      <th>6741</th>\n",
       "      <td>1</td>\n",
       "      <td>0</td>\n",
       "      <td>0</td>\n",
       "      <td>2</td>\n",
       "      <td>17.22</td>\n",
       "      <td>21.210</td>\n",
       "      <td>94</td>\n",
       "      <td>11.0014</td>\n",
       "      <td>2012</td>\n",
       "      <td>3</td>\n",
       "      <td>18</td>\n",
       "      <td>6</td>\n",
       "      <td>4</td>\n",
       "    </tr>\n",
       "    <tr>\n",
       "      <th>9848</th>\n",
       "      <td>4</td>\n",
       "      <td>0</td>\n",
       "      <td>0</td>\n",
       "      <td>1</td>\n",
       "      <td>26.24</td>\n",
       "      <td>31.060</td>\n",
       "      <td>44</td>\n",
       "      <td>12.9980</td>\n",
       "      <td>2012</td>\n",
       "      <td>10</td>\n",
       "      <td>14</td>\n",
       "      <td>6</td>\n",
       "      <td>17</td>\n",
       "    </tr>\n",
       "    <tr>\n",
       "      <th>1410</th>\n",
       "      <td>2</td>\n",
       "      <td>0</td>\n",
       "      <td>1</td>\n",
       "      <td>1</td>\n",
       "      <td>31.16</td>\n",
       "      <td>33.335</td>\n",
       "      <td>23</td>\n",
       "      <td>36.9974</td>\n",
       "      <td>2011</td>\n",
       "      <td>4</td>\n",
       "      <td>4</td>\n",
       "      <td>0</td>\n",
       "      <td>15</td>\n",
       "    </tr>\n",
       "    <tr>\n",
       "      <th>10672</th>\n",
       "      <td>4</td>\n",
       "      <td>0</td>\n",
       "      <td>1</td>\n",
       "      <td>2</td>\n",
       "      <td>16.40</td>\n",
       "      <td>20.455</td>\n",
       "      <td>66</td>\n",
       "      <td>22.0028</td>\n",
       "      <td>2012</td>\n",
       "      <td>12</td>\n",
       "      <td>11</td>\n",
       "      <td>1</td>\n",
       "      <td>2</td>\n",
       "    </tr>\n",
       "  </tbody>\n",
       "</table>\n",
       "</div>"
      ],
      "text/plain": [
       "       season  holiday  workingday  weather   temp   atemp  humidity  \\\n",
       "3709        3        1           0        2  28.70  33.335        74   \n",
       "6741        1        0           0        2  17.22  21.210        94   \n",
       "9848        4        0           0        1  26.24  31.060        44   \n",
       "1410        2        0           1        1  31.16  33.335        23   \n",
       "10672       4        0           1        2  16.40  20.455        66   \n",
       "\n",
       "       windspeed  year  month  day  dayofweek  hour  \n",
       "3709     11.0014  2011      9    5          0    11  \n",
       "6741     11.0014  2012      3   18          6     4  \n",
       "9848     12.9980  2012     10   14          6    17  \n",
       "1410     36.9974  2011      4    4          0    15  \n",
       "10672    22.0028  2012     12   11          1     2  "
      ]
     },
     "execution_count": 422,
     "metadata": {},
     "output_type": "execute_result"
    }
   ],
   "source": [
    "# Verify Quality  using validation dataset\n",
    "X_test.head()"
   ]
  },
  {
   "cell_type": "code",
   "execution_count": 423,
   "metadata": {},
   "outputs": [
    {
     "data": {
      "text/plain": [
       "Index(['season', 'holiday', 'workingday', 'weather', 'temp', 'atemp',\n",
       "       'humidity', 'windspeed', 'year', 'month', 'day', 'dayofweek', 'hour'],\n",
       "      dtype='object')"
      ]
     },
     "execution_count": 423,
     "metadata": {},
     "output_type": "execute_result"
    }
   ],
   "source": [
    "X_test.keys()"
   ]
  },
  {
   "cell_type": "code",
   "execution_count": 424,
   "metadata": {},
   "outputs": [],
   "source": [
    "result=regressor.predict(X_test)"
   ]
  },
  {
   "cell_type": "code",
   "execution_count": 425,
   "metadata": {},
   "outputs": [
    {
     "data": {
      "text/plain": [
       "array([249.83987 ,  10.284987, 602.20123 ,  92.41939 ,  16.491997],\n",
       "      dtype=float32)"
      ]
     },
     "execution_count": 425,
     "metadata": {},
     "output_type": "execute_result"
    }
   ],
   "source": [
    "result[:5]"
   ]
  },
  {
   "cell_type": "code",
   "execution_count": 429,
   "metadata": {},
   "outputs": [
    {
     "data": {
      "text/plain": [
       "pandas.core.series.Series"
      ]
     },
     "execution_count": 429,
     "metadata": {},
     "output_type": "execute_result"
    }
   ],
   "source": [
    "type(y_val)"
   ]
  },
  {
   "cell_type": "code",
   "execution_count": 410,
   "metadata": {},
   "outputs": [
    {
     "data": {
      "text/plain": [
       "pandas.core.frame.DataFrame"
      ]
     },
     "execution_count": 410,
     "metadata": {},
     "output_type": "execute_result"
    }
   ],
   "source": [
    "type(X_test)"
   ]
  },
  {
   "cell_type": "code",
   "execution_count": 431,
   "metadata": {},
   "outputs": [],
   "source": [
    "y_test['count_predicted']=result"
   ]
  },
  {
   "cell_type": "code",
   "execution_count": 432,
   "metadata": {},
   "outputs": [
    {
     "data": {
      "text/plain": [
       "((2178,), (10886, 16), (2178, 13), (2179,), (1742,))"
      ]
     },
     "execution_count": 432,
     "metadata": {},
     "output_type": "execute_result"
    }
   ],
   "source": [
    "result.shape, df.shape, X_test.shape, y_test.shape, y_val.shape"
   ]
  },
  {
   "cell_type": "code",
   "execution_count": 433,
   "metadata": {},
   "outputs": [
    {
     "data": {
      "text/plain": [
       "array([249.83987 ,  10.284987, 602.20123 , ...,  36.487606, 291.34882 ,\n",
       "       128.70288 ], dtype=float32)"
      ]
     },
     "execution_count": 433,
     "metadata": {},
     "output_type": "execute_result"
    }
   ],
   "source": [
    "result"
   ]
  },
  {
   "cell_type": "code",
   "execution_count": 434,
   "metadata": {},
   "outputs": [
    {
     "data": {
      "text/plain": [
       "3709     308\n",
       "6741      14\n",
       "9848     539\n",
       "1410     143\n",
       "10672      1\n",
       "Name: count, dtype: object"
      ]
     },
     "execution_count": 434,
     "metadata": {},
     "output_type": "execute_result"
    }
   ],
   "source": [
    "y_test.head()"
   ]
  },
  {
   "cell_type": "code",
   "execution_count": null,
   "metadata": {},
   "outputs": [],
   "source": []
  },
  {
   "cell_type": "code",
   "execution_count": null,
   "metadata": {},
   "outputs": [],
   "source": []
  },
  {
   "cell_type": "code",
   "execution_count": 319,
   "metadata": {},
   "outputs": [],
   "source": [
    "\n",
    "df_tr=pd.read_csv(\"bike_train.csv\")\n",
    "df_tes=pd.read_csv(\"bike_test.csv\")"
   ]
  },
  {
   "cell_type": "code",
   "execution_count": 321,
   "metadata": {},
   "outputs": [
    {
     "data": {
      "text/plain": [
       "(6493, 13)"
      ]
     },
     "execution_count": 321,
     "metadata": {},
     "output_type": "execute_result"
    }
   ],
   "source": [
    "df_tes.shape"
   ]
  },
  {
   "cell_type": "code",
   "execution_count": 326,
   "metadata": {},
   "outputs": [
    {
     "data": {
      "text/plain": [
       "(10886, 16)"
      ]
     },
     "execution_count": 326,
     "metadata": {},
     "output_type": "execute_result"
    }
   ],
   "source": [
    "df.shape"
   ]
  },
  {
   "cell_type": "code",
   "execution_count": 327,
   "metadata": {},
   "outputs": [],
   "source": [
    "\n",
    "X = df_tr.drop(['count', 'registered', 'casual'], axis=1)\n",
    "y = df_tr['count']\n",
    "\n",
    "\n"
   ]
  },
  {
   "cell_type": "code",
   "execution_count": 328,
   "metadata": {},
   "outputs": [
    {
     "data": {
      "text/plain": [
       "Index(['season', 'holiday', 'workingday', 'weather', 'temp', 'atemp',\n",
       "       'humidity', 'windspeed', 'casual', 'registered', 'count', 'year',\n",
       "       'month', 'day', 'dayofweek', 'hour'],\n",
       "      dtype='object')"
      ]
     },
     "execution_count": 328,
     "metadata": {},
     "output_type": "execute_result"
    }
   ],
   "source": [
    "df_tr.keys()"
   ]
  },
  {
   "cell_type": "code",
   "execution_count": 329,
   "metadata": {},
   "outputs": [
    {
     "data": {
      "text/plain": [
       "0    16\n",
       "1    40\n",
       "2    32\n",
       "3    13\n",
       "4     1\n",
       "Name: count, dtype: int64"
      ]
     },
     "execution_count": 329,
     "metadata": {},
     "output_type": "execute_result"
    }
   ],
   "source": [
    "y.head()"
   ]
  },
  {
   "cell_type": "code",
   "execution_count": 286,
   "metadata": {},
   "outputs": [],
   "source": [
    "X_train, X_test, y_train, y_test = train_test_split(X, y, test_size=0.3,  random_state=52)"
   ]
  },
  {
   "cell_type": "code",
   "execution_count": 287,
   "metadata": {},
   "outputs": [],
   "source": [
    "regressor=xgb.XGBRegressor(max_depth=5, n_estimators=150)"
   ]
  },
  {
   "cell_type": "code",
   "execution_count": 288,
   "metadata": {},
   "outputs": [
    {
     "data": {
      "text/plain": [
       "XGBRegressor(base_score=0.5, booster='gbtree', colsample_bylevel=1,\n",
       "             colsample_bynode=1, colsample_bytree=1, gamma=0,\n",
       "             importance_type='gain', learning_rate=0.1, max_delta_step=0,\n",
       "             max_depth=5, min_child_weight=1, missing=None, n_estimators=150,\n",
       "             n_jobs=1, nthread=None, objective='reg:linear', random_state=0,\n",
       "             reg_alpha=0, reg_lambda=1, scale_pos_weight=1, seed=None,\n",
       "             silent=None, subsample=1, verbosity=1)"
      ]
     },
     "execution_count": 288,
     "metadata": {},
     "output_type": "execute_result"
    }
   ],
   "source": [
    "regressor"
   ]
  },
  {
   "cell_type": "code",
   "execution_count": 289,
   "metadata": {},
   "outputs": [
    {
     "name": "stdout",
     "output_type": "stream",
     "text": [
      "[13:17:51] WARNING: src/objective/regression_obj.cu:152: reg:linear is now deprecated in favor of reg:squarederror.\n",
      "[0]\tvalidation_0-rmse:239.765\tvalidation_1-rmse:246.262\n",
      "[1]\tvalidation_0-rmse:220.753\tvalidation_1-rmse:227.092\n",
      "[2]\tvalidation_0-rmse:203.998\tvalidation_1-rmse:210.476\n",
      "[3]\tvalidation_0-rmse:188.989\tvalidation_1-rmse:195.312\n",
      "[4]\tvalidation_0-rmse:175.811\tvalidation_1-rmse:182.226\n",
      "[5]\tvalidation_0-rmse:163.952\tvalidation_1-rmse:170.226\n",
      "[6]\tvalidation_0-rmse:153.729\tvalidation_1-rmse:159.953\n",
      "[7]\tvalidation_0-rmse:144.891\tvalidation_1-rmse:151.143\n",
      "[8]\tvalidation_0-rmse:137.257\tvalidation_1-rmse:143.516\n",
      "[9]\tvalidation_0-rmse:130.212\tvalidation_1-rmse:136.463\n",
      "[10]\tvalidation_0-rmse:124.175\tvalidation_1-rmse:130.389\n",
      "[11]\tvalidation_0-rmse:118.657\tvalidation_1-rmse:124.702\n",
      "[12]\tvalidation_0-rmse:112.376\tvalidation_1-rmse:118.52\n",
      "[13]\tvalidation_0-rmse:106.948\tvalidation_1-rmse:113.185\n",
      "[14]\tvalidation_0-rmse:102.246\tvalidation_1-rmse:108.562\n",
      "[15]\tvalidation_0-rmse:96.97\tvalidation_1-rmse:103.309\n",
      "[16]\tvalidation_0-rmse:93.5023\tvalidation_1-rmse:99.743\n",
      "[17]\tvalidation_0-rmse:90.2019\tvalidation_1-rmse:96.5546\n",
      "[18]\tvalidation_0-rmse:85.7212\tvalidation_1-rmse:91.9718\n",
      "[19]\tvalidation_0-rmse:82.6302\tvalidation_1-rmse:88.7888\n",
      "[20]\tvalidation_0-rmse:79.7008\tvalidation_1-rmse:85.8274\n",
      "[21]\tvalidation_0-rmse:77.9712\tvalidation_1-rmse:84.114\n",
      "[22]\tvalidation_0-rmse:75.6656\tvalidation_1-rmse:81.7812\n",
      "[23]\tvalidation_0-rmse:73.208\tvalidation_1-rmse:79.2631\n",
      "[24]\tvalidation_0-rmse:71.2325\tvalidation_1-rmse:77.2575\n",
      "[25]\tvalidation_0-rmse:69.7566\tvalidation_1-rmse:75.8379\n",
      "[26]\tvalidation_0-rmse:68.022\tvalidation_1-rmse:74.0268\n",
      "[27]\tvalidation_0-rmse:65.4013\tvalidation_1-rmse:71.285\n",
      "[28]\tvalidation_0-rmse:64.5141\tvalidation_1-rmse:70.3812\n",
      "[29]\tvalidation_0-rmse:63.1451\tvalidation_1-rmse:68.9559\n",
      "[30]\tvalidation_0-rmse:61.0514\tvalidation_1-rmse:66.8335\n",
      "[31]\tvalidation_0-rmse:60.049\tvalidation_1-rmse:65.8413\n",
      "[32]\tvalidation_0-rmse:59.2124\tvalidation_1-rmse:65.0466\n",
      "[33]\tvalidation_0-rmse:58.4156\tvalidation_1-rmse:64.291\n",
      "[34]\tvalidation_0-rmse:57.8985\tvalidation_1-rmse:63.853\n",
      "[35]\tvalidation_0-rmse:56.7745\tvalidation_1-rmse:62.7453\n",
      "[36]\tvalidation_0-rmse:56.1916\tvalidation_1-rmse:62.2038\n",
      "[37]\tvalidation_0-rmse:55.6486\tvalidation_1-rmse:61.6525\n",
      "[38]\tvalidation_0-rmse:54.9746\tvalidation_1-rmse:60.9447\n",
      "[39]\tvalidation_0-rmse:54.462\tvalidation_1-rmse:60.4876\n",
      "[40]\tvalidation_0-rmse:53.0897\tvalidation_1-rmse:58.9946\n",
      "[41]\tvalidation_0-rmse:52.5022\tvalidation_1-rmse:58.477\n",
      "[42]\tvalidation_0-rmse:52.1376\tvalidation_1-rmse:58.1346\n",
      "[43]\tvalidation_0-rmse:51.8123\tvalidation_1-rmse:57.8359\n",
      "[44]\tvalidation_0-rmse:50.6413\tvalidation_1-rmse:56.5756\n",
      "[45]\tvalidation_0-rmse:49.7798\tvalidation_1-rmse:55.6982\n",
      "[46]\tvalidation_0-rmse:49.551\tvalidation_1-rmse:55.4923\n",
      "[47]\tvalidation_0-rmse:49.1193\tvalidation_1-rmse:55.1085\n",
      "[48]\tvalidation_0-rmse:48.7345\tvalidation_1-rmse:54.7174\n",
      "[49]\tvalidation_0-rmse:48.4975\tvalidation_1-rmse:54.4702\n",
      "[50]\tvalidation_0-rmse:48.128\tvalidation_1-rmse:54.1368\n",
      "[51]\tvalidation_0-rmse:47.971\tvalidation_1-rmse:54.0039\n",
      "[52]\tvalidation_0-rmse:47.8319\tvalidation_1-rmse:53.9049\n",
      "[53]\tvalidation_0-rmse:47.0059\tvalidation_1-rmse:52.9999\n",
      "[54]\tvalidation_0-rmse:46.7219\tvalidation_1-rmse:52.7886\n",
      "[55]\tvalidation_0-rmse:46.4442\tvalidation_1-rmse:52.4993\n",
      "[56]\tvalidation_0-rmse:45.9634\tvalidation_1-rmse:52.0187\n",
      "[57]\tvalidation_0-rmse:45.6749\tvalidation_1-rmse:51.8367\n",
      "[58]\tvalidation_0-rmse:44.8356\tvalidation_1-rmse:50.908\n",
      "[59]\tvalidation_0-rmse:44.7184\tvalidation_1-rmse:50.8037\n",
      "[60]\tvalidation_0-rmse:44.479\tvalidation_1-rmse:50.5899\n",
      "[61]\tvalidation_0-rmse:44.1238\tvalidation_1-rmse:50.2577\n",
      "[62]\tvalidation_0-rmse:43.8695\tvalidation_1-rmse:50.0894\n",
      "[63]\tvalidation_0-rmse:43.3396\tvalidation_1-rmse:49.5115\n",
      "[64]\tvalidation_0-rmse:43.207\tvalidation_1-rmse:49.4168\n",
      "[65]\tvalidation_0-rmse:43.0104\tvalidation_1-rmse:49.2717\n",
      "[66]\tvalidation_0-rmse:42.4413\tvalidation_1-rmse:48.6276\n",
      "[67]\tvalidation_0-rmse:42.297\tvalidation_1-rmse:48.5214\n",
      "[68]\tvalidation_0-rmse:42.2354\tvalidation_1-rmse:48.4688\n",
      "[69]\tvalidation_0-rmse:41.8939\tvalidation_1-rmse:48.0638\n",
      "[70]\tvalidation_0-rmse:41.7829\tvalidation_1-rmse:47.9876\n",
      "[71]\tvalidation_0-rmse:41.6098\tvalidation_1-rmse:47.8563\n",
      "[72]\tvalidation_0-rmse:41.4912\tvalidation_1-rmse:47.7824\n",
      "[73]\tvalidation_0-rmse:40.9413\tvalidation_1-rmse:47.2354\n",
      "[74]\tvalidation_0-rmse:40.87\tvalidation_1-rmse:47.1537\n",
      "[75]\tvalidation_0-rmse:40.7088\tvalidation_1-rmse:47.0466\n",
      "[76]\tvalidation_0-rmse:40.5811\tvalidation_1-rmse:46.9288\n",
      "[77]\tvalidation_0-rmse:40.472\tvalidation_1-rmse:46.8599\n",
      "[78]\tvalidation_0-rmse:40.339\tvalidation_1-rmse:46.7951\n",
      "[79]\tvalidation_0-rmse:40.0788\tvalidation_1-rmse:46.5281\n",
      "[80]\tvalidation_0-rmse:39.8719\tvalidation_1-rmse:46.3554\n",
      "[81]\tvalidation_0-rmse:39.727\tvalidation_1-rmse:46.2182\n",
      "[82]\tvalidation_0-rmse:39.6187\tvalidation_1-rmse:46.1843\n",
      "[83]\tvalidation_0-rmse:39.4969\tvalidation_1-rmse:46.1235\n",
      "[84]\tvalidation_0-rmse:39.4276\tvalidation_1-rmse:46.086\n",
      "[85]\tvalidation_0-rmse:39.2887\tvalidation_1-rmse:46.0072\n",
      "[86]\tvalidation_0-rmse:39.2008\tvalidation_1-rmse:45.9318\n",
      "[87]\tvalidation_0-rmse:39.1314\tvalidation_1-rmse:45.9117\n",
      "[88]\tvalidation_0-rmse:39.035\tvalidation_1-rmse:45.8346\n",
      "[89]\tvalidation_0-rmse:38.7696\tvalidation_1-rmse:45.6827\n",
      "[90]\tvalidation_0-rmse:38.6794\tvalidation_1-rmse:45.642\n",
      "[91]\tvalidation_0-rmse:38.6269\tvalidation_1-rmse:45.6186\n",
      "[92]\tvalidation_0-rmse:38.5441\tvalidation_1-rmse:45.5646\n",
      "[93]\tvalidation_0-rmse:38.4606\tvalidation_1-rmse:45.5057\n",
      "[94]\tvalidation_0-rmse:38.3901\tvalidation_1-rmse:45.4785\n",
      "[95]\tvalidation_0-rmse:38.0193\tvalidation_1-rmse:45.1184\n",
      "[96]\tvalidation_0-rmse:37.9721\tvalidation_1-rmse:45.0919\n",
      "[97]\tvalidation_0-rmse:37.9382\tvalidation_1-rmse:45.0724\n",
      "[98]\tvalidation_0-rmse:37.8857\tvalidation_1-rmse:45.0465\n",
      "[99]\tvalidation_0-rmse:37.8192\tvalidation_1-rmse:45.0093\n",
      "[100]\tvalidation_0-rmse:37.7625\tvalidation_1-rmse:44.957\n",
      "[101]\tvalidation_0-rmse:37.6749\tvalidation_1-rmse:44.8964\n",
      "[102]\tvalidation_0-rmse:37.4917\tvalidation_1-rmse:44.7993\n",
      "[103]\tvalidation_0-rmse:37.3596\tvalidation_1-rmse:44.6627\n",
      "[104]\tvalidation_0-rmse:37.2696\tvalidation_1-rmse:44.652\n",
      "[105]\tvalidation_0-rmse:37.0085\tvalidation_1-rmse:44.4115\n",
      "[106]\tvalidation_0-rmse:36.983\tvalidation_1-rmse:44.3913\n",
      "[107]\tvalidation_0-rmse:36.9301\tvalidation_1-rmse:44.3304\n",
      "[108]\tvalidation_0-rmse:36.7833\tvalidation_1-rmse:44.2504\n",
      "[109]\tvalidation_0-rmse:36.7669\tvalidation_1-rmse:44.249\n",
      "[110]\tvalidation_0-rmse:36.7239\tvalidation_1-rmse:44.221\n",
      "[111]\tvalidation_0-rmse:36.4999\tvalidation_1-rmse:44.021\n",
      "[112]\tvalidation_0-rmse:36.4676\tvalidation_1-rmse:44.0173\n",
      "[113]\tvalidation_0-rmse:36.4162\tvalidation_1-rmse:43.9884\n",
      "[114]\tvalidation_0-rmse:36.2708\tvalidation_1-rmse:43.8765\n",
      "[115]\tvalidation_0-rmse:36.1484\tvalidation_1-rmse:43.8044\n",
      "[116]\tvalidation_0-rmse:36.0978\tvalidation_1-rmse:43.7842\n",
      "[117]\tvalidation_0-rmse:36.0315\tvalidation_1-rmse:43.7282\n",
      "[118]\tvalidation_0-rmse:35.9696\tvalidation_1-rmse:43.6768\n",
      "[119]\tvalidation_0-rmse:35.9383\tvalidation_1-rmse:43.683\n",
      "[120]\tvalidation_0-rmse:35.8266\tvalidation_1-rmse:43.6132\n",
      "[121]\tvalidation_0-rmse:35.6982\tvalidation_1-rmse:43.5406\n",
      "[122]\tvalidation_0-rmse:35.5813\tvalidation_1-rmse:43.4866\n",
      "[123]\tvalidation_0-rmse:35.4957\tvalidation_1-rmse:43.4426\n",
      "[124]\tvalidation_0-rmse:35.398\tvalidation_1-rmse:43.3693\n",
      "[125]\tvalidation_0-rmse:35.3781\tvalidation_1-rmse:43.3715\n",
      "[126]\tvalidation_0-rmse:35.3163\tvalidation_1-rmse:43.324\n",
      "[127]\tvalidation_0-rmse:35.2583\tvalidation_1-rmse:43.2791\n",
      "[128]\tvalidation_0-rmse:35.1824\tvalidation_1-rmse:43.2638\n",
      "[129]\tvalidation_0-rmse:35.0792\tvalidation_1-rmse:43.1737\n",
      "[130]\tvalidation_0-rmse:35.0444\tvalidation_1-rmse:43.1558\n",
      "[131]\tvalidation_0-rmse:34.9799\tvalidation_1-rmse:43.1288\n",
      "[132]\tvalidation_0-rmse:34.9146\tvalidation_1-rmse:43.0994\n",
      "[133]\tvalidation_0-rmse:34.7654\tvalidation_1-rmse:43.0157\n",
      "[134]\tvalidation_0-rmse:34.7383\tvalidation_1-rmse:42.9997\n",
      "[135]\tvalidation_0-rmse:34.6932\tvalidation_1-rmse:42.9889\n",
      "[136]\tvalidation_0-rmse:34.6331\tvalidation_1-rmse:42.9728\n",
      "[137]\tvalidation_0-rmse:34.5879\tvalidation_1-rmse:42.9685\n",
      "[138]\tvalidation_0-rmse:34.5403\tvalidation_1-rmse:42.9464\n",
      "[139]\tvalidation_0-rmse:34.5081\tvalidation_1-rmse:42.9389\n",
      "[140]\tvalidation_0-rmse:34.4239\tvalidation_1-rmse:42.8855\n",
      "[141]\tvalidation_0-rmse:34.3187\tvalidation_1-rmse:42.7944\n"
     ]
    },
    {
     "name": "stdout",
     "output_type": "stream",
     "text": [
      "[142]\tvalidation_0-rmse:34.292\tvalidation_1-rmse:42.7871\n",
      "[143]\tvalidation_0-rmse:34.2094\tvalidation_1-rmse:42.7727\n",
      "[144]\tvalidation_0-rmse:34.1143\tvalidation_1-rmse:42.6954\n",
      "[145]\tvalidation_0-rmse:34.0742\tvalidation_1-rmse:42.6814\n",
      "[146]\tvalidation_0-rmse:34.0312\tvalidation_1-rmse:42.6537\n",
      "[147]\tvalidation_0-rmse:34.0225\tvalidation_1-rmse:42.6479\n",
      "[148]\tvalidation_0-rmse:33.904\tvalidation_1-rmse:42.5382\n",
      "[149]\tvalidation_0-rmse:33.8095\tvalidation_1-rmse:42.4804\n"
     ]
    },
    {
     "data": {
      "text/plain": [
       "XGBRegressor(base_score=0.5, booster='gbtree', colsample_bylevel=1,\n",
       "             colsample_bynode=1, colsample_bytree=1, gamma=0,\n",
       "             importance_type='gain', learning_rate=0.1, max_delta_step=0,\n",
       "             max_depth=5, min_child_weight=1, missing=None, n_estimators=150,\n",
       "             n_jobs=1, nthread=None, objective='reg:linear', random_state=0,\n",
       "             reg_alpha=0, reg_lambda=1, scale_pos_weight=1, seed=None,\n",
       "             silent=None, subsample=1, verbosity=1)"
      ]
     },
     "execution_count": 289,
     "metadata": {},
     "output_type": "execute_result"
    }
   ],
   "source": [
    "regressor.fit(X_train, y_train , eval_set=[(X_train, y_train), (X_test, y_test)])"
   ]
  },
  {
   "cell_type": "code",
   "execution_count": 290,
   "metadata": {},
   "outputs": [],
   "source": [
    "eval_result=regressor.evals_result()"
   ]
  },
  {
   "cell_type": "code",
   "execution_count": 291,
   "metadata": {},
   "outputs": [],
   "source": [
    "training_rounds=range(len(eval_result['validation_0']['rmse']))"
   ]
  },
  {
   "cell_type": "code",
   "execution_count": 292,
   "metadata": {},
   "outputs": [
    {
     "name": "stdout",
     "output_type": "stream",
     "text": [
      "range(0, 150)\n"
     ]
    }
   ],
   "source": [
    "print(training_rounds)"
   ]
  },
  {
   "cell_type": "code",
   "execution_count": 293,
   "metadata": {},
   "outputs": [
    {
     "data": {
      "image/png": "[encoded data removed]",
      "text/plain": [
       "<Figure size 432x288 with 1 Axes>"
      ]
     },
     "metadata": {},
     "output_type": "display_data"
    }
   ],
   "source": [
    "plt.scatter(training_rounds, eval_result['validation_0']['rmse'], label='Training Error')\n",
    "plt.scatter(training_rounds, eval_result['validation_1']['rmse'], label='Training Error')\n",
    "plt.grid(True)\n",
    "plt.xlabel(\"Iteration\")\n",
    "plt.ylabel(\"RMSE\")\n",
    "plt.title(\" Training Vs Validation Error\")\n",
    "plt.legend()\n",
    "plt.show()"
   ]
  },
  {
   "cell_type": "code",
   "execution_count": 294,
   "metadata": {},
   "outputs": [
    {
     "data": {
      "image/png": "[encoded data removed]",
      "text/plain": [
       "<Figure size 432x288 with 1 Axes>"
      ]
     },
     "metadata": {},
     "output_type": "display_data"
    }
   ],
   "source": [
    "xgb.plot_importance(regressor)\n",
    "plt.show()"
   ]
  },
  {
   "cell_type": "code",
   "execution_count": 311,
   "metadata": {},
   "outputs": [
    {
     "data": {
      "text/html": [
       "<div>\n",
       "<style scoped>\n",
       "    .dataframe tbody tr th:only-of-type {\n",
       "        vertical-align: middle;\n",
       "    }\n",
       "\n",
       "    .dataframe tbody tr th {\n",
       "        vertical-align: top;\n",
       "    }\n",
       "\n",
       "    .dataframe thead th {\n",
       "        text-align: right;\n",
       "    }\n",
       "</style>\n",
       "<table border=\"1\" class=\"dataframe\">\n",
       "  <thead>\n",
       "    <tr style=\"text-align: right;\">\n",
       "      <th></th>\n",
       "      <th>ColumnA</th>\n",
       "      <th>ColumnB</th>\n",
       "      <th>Country_Code</th>\n",
       "    </tr>\n",
       "  </thead>\n",
       "  <tbody>\n",
       "    <tr>\n",
       "      <th>48</th>\n",
       "      <td>1</td>\n",
       "      <td>10</td>\n",
       "      <td>0</td>\n",
       "    </tr>\n",
       "    <tr>\n",
       "      <th>27</th>\n",
       "      <td>1</td>\n",
       "      <td>10</td>\n",
       "      <td>3</td>\n",
       "    </tr>\n",
       "    <tr>\n",
       "      <th>58</th>\n",
       "      <td>1</td>\n",
       "      <td>10</td>\n",
       "      <td>2</td>\n",
       "    </tr>\n",
       "    <tr>\n",
       "      <th>30</th>\n",
       "      <td>1</td>\n",
       "      <td>10</td>\n",
       "      <td>2</td>\n",
       "    </tr>\n",
       "    <tr>\n",
       "      <th>23</th>\n",
       "      <td>1</td>\n",
       "      <td>10</td>\n",
       "      <td>3</td>\n",
       "    </tr>\n",
       "  </tbody>\n",
       "</table>\n",
       "</div>"
      ],
      "text/plain": [
       "    ColumnA  ColumnB  Country_Code\n",
       "48        1       10             0\n",
       "27        1       10             3\n",
       "58        1       10             2\n",
       "30        1       10             2\n",
       "23        1       10             3"
      ]
     },
     "execution_count": 311,
     "metadata": {},
     "output_type": "execute_result"
    }
   ],
   "source": [
    "  # verify Quality using Validation dataset\n",
    "X_test.head()"
   ]
  },
  {
   "cell_type": "code",
   "execution_count": 344,
   "metadata": {},
   "outputs": [
    {
     "name": "stdout",
     "output_type": "stream",
     "text": [
      "    ColumnA  ColumnB  Country_Code\n",
      "48        1       10             0\n",
      "27        1       10             3\n",
      "58        1       10             2\n",
      "30        1       10             2\n",
      "23        1       10             3\n"
     ]
    }
   ],
   "source": [
    "print(X_test[:5])"
   ]
  },
  {
   "cell_type": "code",
   "execution_count": 300,
   "metadata": {},
   "outputs": [],
   "source": [
    "result=regressor.predict(X_test)"
   ]
  },
  {
   "cell_type": "code",
   "execution_count": 301,
   "metadata": {},
   "outputs": [
    {
     "data": {
      "text/plain": [
       "array([266.22183 ,  78.09209 ,  10.292493,  69.43123 , 141.07008 ],\n",
       "      dtype=float32)"
      ]
     },
     "execution_count": 301,
     "metadata": {},
     "output_type": "execute_result"
    }
   ],
   "source": [
    "result[:5]"
   ]
  },
  {
   "cell_type": "code",
   "execution_count": 309,
   "metadata": {},
   "outputs": [
    {
     "data": {
      "text/plain": [
       "(3266,)"
      ]
     },
     "execution_count": 309,
     "metadata": {},
     "output_type": "execute_result"
    }
   ],
   "source": [
    "result.shape"
   ]
  },
  {
   "cell_type": "code",
   "execution_count": 310,
   "metadata": {},
   "outputs": [
    {
     "data": {
      "text/plain": [
       "(24, 3)"
      ]
     },
     "execution_count": 310,
     "metadata": {},
     "output_type": "execute_result"
    }
   ],
   "source": [
    "X_test.shape"
   ]
  },
  {
   "cell_type": "code",
   "execution_count": 302,
   "metadata": {},
   "outputs": [
    {
     "name": "stderr",
     "output_type": "stream",
     "text": [
      "/Users/anaconda3/lib/python3.7/site-packages/ipykernel_launcher.py:1: SettingWithCopyWarning: \n",
      "A value is trying to be set on a copy of a slice from a DataFrame.\n",
      "Try using .loc[row_indexer,col_indexer] = value instead\n",
      "\n",
      "See the caveats in the documentation: http://pandas.pydata.org/pandas-docs/stable/user_guide/indexing.html#returning-a-view-versus-a-copy\n",
      "  \"\"\"Entry point for launching an IPython kernel.\n"
     ]
    }
   ],
   "source": [
    "X_test['counted_predicted']=result"
   ]
  },
  {
   "cell_type": "code",
   "execution_count": null,
   "metadata": {},
   "outputs": [],
   "source": []
  },
  {
   "cell_type": "code",
   "execution_count": 343,
   "metadata": {},
   "outputs": [
    {
     "data": {
      "text/html": [
       "<div>\n",
       "<style scoped>\n",
       "    .dataframe tbody tr th:only-of-type {\n",
       "        vertical-align: middle;\n",
       "    }\n",
       "\n",
       "    .dataframe tbody tr th {\n",
       "        vertical-align: top;\n",
       "    }\n",
       "\n",
       "    .dataframe thead th {\n",
       "        text-align: right;\n",
       "    }\n",
       "</style>\n",
       "<table border=\"1\" class=\"dataframe\">\n",
       "  <thead>\n",
       "    <tr style=\"text-align: right;\">\n",
       "      <th></th>\n",
       "      <th>ColumnA</th>\n",
       "      <th>ColumnB</th>\n",
       "      <th>Country_Code</th>\n",
       "    </tr>\n",
       "  </thead>\n",
       "  <tbody>\n",
       "    <tr>\n",
       "      <th>48</th>\n",
       "      <td>1</td>\n",
       "      <td>10</td>\n",
       "      <td>0</td>\n",
       "    </tr>\n",
       "    <tr>\n",
       "      <th>27</th>\n",
       "      <td>1</td>\n",
       "      <td>10</td>\n",
       "      <td>3</td>\n",
       "    </tr>\n",
       "    <tr>\n",
       "      <th>58</th>\n",
       "      <td>1</td>\n",
       "      <td>10</td>\n",
       "      <td>2</td>\n",
       "    </tr>\n",
       "    <tr>\n",
       "      <th>30</th>\n",
       "      <td>1</td>\n",
       "      <td>10</td>\n",
       "      <td>2</td>\n",
       "    </tr>\n",
       "    <tr>\n",
       "      <th>23</th>\n",
       "      <td>1</td>\n",
       "      <td>10</td>\n",
       "      <td>3</td>\n",
       "    </tr>\n",
       "  </tbody>\n",
       "</table>\n",
       "</div>"
      ],
      "text/plain": [
       "    ColumnA  ColumnB  Country_Code\n",
       "48        1       10             0\n",
       "27        1       10             3\n",
       "58        1       10             2\n",
       "30        1       10             2\n",
       "23        1       10             3"
      ]
     },
     "execution_count": 343,
     "metadata": {},
     "output_type": "execute_result"
    }
   ],
   "source": [
    "X_test.head()"
   ]
  },
  {
   "cell_type": "code",
   "execution_count": null,
   "metadata": {},
   "outputs": [],
   "source": [
    "X_test[X_test['counted_predicted']<0]"
   ]
  },
  {
   "cell_type": "code",
   "execution_count": null,
   "metadata": {},
   "outputs": [],
   "source": []
  },
  {
   "cell_type": "code",
   "execution_count": null,
   "metadata": {},
   "outputs": [],
   "source": []
  },
  {
   "cell_type": "code",
   "execution_count": null,
   "metadata": {},
   "outputs": [],
   "source": []
  },
  {
   "cell_type": "code",
   "execution_count": null,
   "metadata": {},
   "outputs": [],
   "source": []
  },
  {
   "cell_type": "code",
   "execution_count": null,
   "metadata": {},
   "outputs": [],
   "source": []
  },
  {
   "cell_type": "code",
   "execution_count": null,
   "metadata": {},
   "outputs": [],
   "source": []
  },
  {
   "cell_type": "code",
   "execution_count": null,
   "metadata": {},
   "outputs": [],
   "source": []
  },
  {
   "cell_type": "code",
   "execution_count": 304,
   "metadata": {},
   "outputs": [],
   "source": [
    "\n",
    "from sklearn.model_selection import train_test_split\n",
    "from sklearn.linear_model import LinearRegression \n",
    "\n",
    "df = pd.DataFrame({\n",
    "        'Country': ['AB', 'CD', 'EF', 'FG']*20,\n",
    "        'ColumnA' : [1]*20*4,'ColumnB' : [10]*20*4, 'Label': [1,0,1,0]*20\n",
    "    })\n",
    "\n",
    "df['Country_Code'] = df['Country'].astype('category').cat.codes"
   ]
  },
  {
   "cell_type": "code",
   "execution_count": 305,
   "metadata": {},
   "outputs": [
    {
     "data": {
      "text/plain": [
       "LinearRegression(copy_X=True, fit_intercept=True, n_jobs=None, normalize=False)"
      ]
     },
     "execution_count": 305,
     "metadata": {},
     "output_type": "execute_result"
    }
   ],
   "source": [
    "X = df.loc[:, df.columns.drop(['Label','Country'])]\n",
    "y = df['Label']\n",
    "X_train, X_test, y_train, y_test = train_test_split(X, y, test_size=0.3, random_state=0, stratify=df.Country_Code)\n",
    "lm = LinearRegression()\n",
    "lm.fit(X_train,y_train)"
   ]
  },
  {
   "cell_type": "code",
   "execution_count": null,
   "metadata": {},
   "outputs": [],
   "source": []
  },
  {
   "cell_type": "code",
   "execution_count": null,
   "metadata": {},
   "outputs": [],
   "source": []
  }
 ],
 "metadata": {
  "kernelspec": {
   "display_name": "Python 3",
   "language": "python",
   "name": "python3"
  },
  "language_info": {
   "codemirror_mode": {
    "name": "ipython",
    "version": 3
   },
   "file_extension": ".py",
   "mimetype": "text/x-python",
   "name": "python",
   "nbconvert_exporter": "python",
   "pygments_lexer": "ipython3",
   "version": "3.7.1"
  }
 },
 "nbformat": 4,
 "nbformat_minor": 2
}
